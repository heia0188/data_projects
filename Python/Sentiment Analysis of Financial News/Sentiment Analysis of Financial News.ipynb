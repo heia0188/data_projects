{
 "cells": [
  {
   "cell_type": "code",
   "execution_count": 103,
   "id": "8e3f7267",
   "metadata": {},
   "outputs": [],
   "source": [
    "from urllib.request import urlopen, Request"
   ]
  },
  {
   "cell_type": "code",
   "execution_count": 104,
   "id": "bc45f6e0",
   "metadata": {},
   "outputs": [],
   "source": [
    "from bs4 import BeautifulSoup"
   ]
  },
  {
   "cell_type": "code",
   "execution_count": 105,
   "id": "225faac3",
   "metadata": {},
   "outputs": [],
   "source": [
    "from nltk.sentiment.vader import SentimentIntensityAnalyzer"
   ]
  },
  {
   "cell_type": "code",
   "execution_count": 106,
   "id": "c2ca850c",
   "metadata": {},
   "outputs": [],
   "source": [
    "import pandas as pd"
   ]
  },
  {
   "cell_type": "code",
   "execution_count": 107,
   "id": "9594f19e",
   "metadata": {},
   "outputs": [],
   "source": [
    "import matplotlib.pyplot as plt"
   ]
  },
  {
   "cell_type": "markdown",
   "id": "3ea852f6",
   "metadata": {},
   "source": [
    "#### Part 1: Getting article data"
   ]
  },
  {
   "cell_type": "code",
   "execution_count": 108,
   "id": "9a47a55e",
   "metadata": {},
   "outputs": [],
   "source": [
    "finviz_url = 'https://finviz.com/quote.ashx?t='"
   ]
  },
  {
   "cell_type": "code",
   "execution_count": 109,
   "id": "261d636e",
   "metadata": {},
   "outputs": [],
   "source": [
    "# Tesla, FB Meta, Pfizer\n",
    "tickers = ['TSLA','FB','PFE']\n",
    "news_tables = {}"
   ]
  },
  {
   "cell_type": "code",
   "execution_count": 110,
   "id": "22396ab2",
   "metadata": {},
   "outputs": [],
   "source": [
    "for ticker in tickers:\n",
    "    url = finviz_url + ticker\n",
    "    \n",
    "    req = Request(url = url, headers = {'user-agent': 'my-app'})\n",
    "    response = urlopen(req)\n",
    "    \n",
    "    html = BeautifulSoup(response, 'html')\n",
    "    news_table = html.find(id = 'news-table')\n",
    "    news_tables[ticker] = news_table"
   ]
  },
  {
   "cell_type": "markdown",
   "id": "870e2781",
   "metadata": {},
   "source": [
    "#### Part 2: Parsing and manipulating data"
   ]
  },
  {
   "cell_type": "code",
   "execution_count": 111,
   "id": "d2a05feb",
   "metadata": {},
   "outputs": [],
   "source": [
    "parsed_data = []"
   ]
  },
  {
   "cell_type": "code",
   "execution_count": 112,
   "id": "2f824edb",
   "metadata": {},
   "outputs": [],
   "source": [
    "for ticker, news_table in news_tables.items():\n",
    "\n",
    "    for row in news_table.findAll('tr'):\n",
    "\n",
    "        title = row.a.text\n",
    "        date_data = row.td.text.split(' ')\n",
    "\n",
    "        if len(date_data) == 1:\n",
    "            time = date_data[0]\n",
    "        else:\n",
    "            date = date_data[0]\n",
    "            time = date_data[1]\n",
    "\n",
    "        parsed_data.append([ticker, date, time, title])"
   ]
  },
  {
   "cell_type": "markdown",
   "id": "48337d9b",
   "metadata": {},
   "source": [
    "#### Part 3: Getting sentiment analysis"
   ]
  },
  {
   "cell_type": "code",
   "execution_count": 113,
   "id": "667e38bf",
   "metadata": {},
   "outputs": [],
   "source": [
    "df = pd.DataFrame(parsed_data, columns = ['ticker','date','time','title'])"
   ]
  },
  {
   "cell_type": "code",
   "execution_count": 114,
   "id": "90523201",
   "metadata": {},
   "outputs": [],
   "source": [
    "vader = SentimentIntensityAnalyzer()"
   ]
  },
  {
   "cell_type": "code",
   "execution_count": 115,
   "id": "8007c47e",
   "metadata": {},
   "outputs": [],
   "source": [
    "f = lambda title: vader.polarity_scores(title)['compound']\n",
    "df['compound'] = df['title'].apply(f)"
   ]
  },
  {
   "cell_type": "code",
   "execution_count": 116,
   "id": "fe660df2",
   "metadata": {},
   "outputs": [],
   "source": [
    "df['date'] = pd.to_datetime(df.date).dt.date"
   ]
  },
  {
   "cell_type": "markdown",
   "id": "3f861497",
   "metadata": {},
   "source": [
    "#### Part 4: Visulization of sentiment analysis"
   ]
  },
  {
   "cell_type": "code",
   "execution_count": 117,
   "id": "321e8829",
   "metadata": {},
   "outputs": [
    {
     "data": {
      "text/plain": [
       "<Figure size 720x576 with 0 Axes>"
      ]
     },
     "execution_count": 117,
     "metadata": {},
     "output_type": "execute_result"
    },
    {
     "data": {
      "text/plain": [
       "<Figure size 720x576 with 0 Axes>"
      ]
     },
     "metadata": {},
     "output_type": "display_data"
    }
   ],
   "source": [
    "plt.figure(figsize = (10,8))"
   ]
  },
  {
   "cell_type": "code",
   "execution_count": 118,
   "id": "bf54cd89",
   "metadata": {},
   "outputs": [
    {
     "name": "stdout",
     "output_type": "stream",
     "text": [
      "ticker            FB       PFE      TSLA\n",
      "date                                    \n",
      "2021-12-08 -0.053638       NaN       NaN\n",
      "2021-12-09  0.071872       NaN       NaN\n",
      "2021-12-10  0.009150  0.073841  0.085533\n",
      "2021-12-11  0.109856  0.039775  0.158477\n",
      "2021-12-12  0.419550  0.383880  0.214233\n",
      "2021-12-13  0.130729  0.045006  0.032524\n",
      "2021-12-14  0.127740  0.018000  0.163903\n"
     ]
    }
   ],
   "source": [
    "mean_df = df.groupby(['ticker','date']).mean()\n",
    "mean_df = mean_df.unstack()\n",
    "mean_df = mean_df.xs('compound', axis = 'columns').transpose() #Get rid of the extra label of compound\n",
    "print(mean_df)"
   ]
  },
  {
   "cell_type": "code",
   "execution_count": 121,
   "id": "2d721083",
   "metadata": {},
   "outputs": [
    {
     "data": {
      "image/png": "[encoded data removed]",
      "text/plain": [
       "<Figure size 432x288 with 1 Axes>"
      ]
     },
     "metadata": {},
     "output_type": "display_data"
    }
   ],
   "source": [
    "mean_df.plot(kind='bar',color=[\"#e2bfa1\",\"#babae7\",\"#99d8c2\"])\n",
    "plt.show()"
   ]
  },
  {
   "cell_type": "code",
   "execution_count": null,
   "id": "9e1fc730",
   "metadata": {},
   "outputs": [],
   "source": []
  }
 ],
 "metadata": {
  "kernelspec": {
   "display_name": "Python 3",
   "language": "python",
   "name": "python3"
  },
  "language_info": {
   "codemirror_mode": {
    "name": "ipython",
    "version": 3
   },
   "file_extension": ".py",
   "mimetype": "text/x-python",
   "name": "python",
   "nbconvert_exporter": "python",
   "pygments_lexer": "ipython3",
   "version": "3.8.8"
  }
 },
 "nbformat": 4,
 "nbformat_minor": 5
}
