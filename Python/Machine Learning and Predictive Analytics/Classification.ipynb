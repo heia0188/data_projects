{
 "cells": [
  {
   "cell_type": "markdown",
   "metadata": {
    "id": "znO59SazSoQ2"
   },
   "source": [
    "***Classification 1***\n",
    "\n",
    "\n",
    "\n"
   ]
  },
  {
   "cell_type": "code",
   "execution_count": null,
   "metadata": {
    "colab": {
     "base_uri": "https://localhost:8080/",
     "height": 607
    },
    "id": "qLDi6YEBStT1",
    "outputId": "16c0d2e4-a140-4a98-b48d-e57d59f711ec"
   },
   "outputs": [
    {
     "data": {
      "text/html": [
       "\n",
       "  <div id=\"df-68724ddd-b505-4e00-867a-ebc2c97aae2b\">\n",
       "    <div class=\"colab-df-container\">\n",
       "      <div>\n",
       "<style scoped>\n",
       "    .dataframe tbody tr th:only-of-type {\n",
       "        vertical-align: middle;\n",
       "    }\n",
       "\n",
       "    .dataframe tbody tr th {\n",
       "        vertical-align: top;\n",
       "    }\n",
       "\n",
       "    .dataframe thead th {\n",
       "        text-align: right;\n",
       "    }\n",
       "</style>\n",
       "<table border=\"1\" class=\"dataframe\">\n",
       "  <thead>\n",
       "    <tr style=\"text-align: right;\">\n",
       "      <th></th>\n",
       "      <th>age</th>\n",
       "      <th>workclass</th>\n",
       "      <th>demogweight</th>\n",
       "      <th>education</th>\n",
       "      <th>education-num</th>\n",
       "      <th>marital-status</th>\n",
       "      <th>occupation</th>\n",
       "      <th>relationship</th>\n",
       "      <th>race</th>\n",
       "      <th>sex</th>\n",
       "      <th>capital-gain</th>\n",
       "      <th>capital-loss</th>\n",
       "      <th>hours-per-week</th>\n",
       "      <th>native-country</th>\n",
       "      <th>income</th>\n",
       "    </tr>\n",
       "  </thead>\n",
       "  <tbody>\n",
       "    <tr>\n",
       "      <th>0</th>\n",
       "      <td>39</td>\n",
       "      <td>State-gov</td>\n",
       "      <td>77516</td>\n",
       "      <td>Bachelors</td>\n",
       "      <td>13</td>\n",
       "      <td>Never-married</td>\n",
       "      <td>Adm-clerical</td>\n",
       "      <td>Not-in-family</td>\n",
       "      <td>White</td>\n",
       "      <td>Male</td>\n",
       "      <td>2174</td>\n",
       "      <td>0</td>\n",
       "      <td>40</td>\n",
       "      <td>United-States</td>\n",
       "      <td>&lt;=50K.</td>\n",
       "    </tr>\n",
       "    <tr>\n",
       "      <th>1</th>\n",
       "      <td>50</td>\n",
       "      <td>Self-emp-not-inc</td>\n",
       "      <td>83311</td>\n",
       "      <td>Bachelors</td>\n",
       "      <td>13</td>\n",
       "      <td>Married-civ-spouse</td>\n",
       "      <td>Exec-managerial</td>\n",
       "      <td>Husband</td>\n",
       "      <td>White</td>\n",
       "      <td>Male</td>\n",
       "      <td>0</td>\n",
       "      <td>0</td>\n",
       "      <td>13</td>\n",
       "      <td>United-States</td>\n",
       "      <td>&lt;=50K.</td>\n",
       "    </tr>\n",
       "    <tr>\n",
       "      <th>2</th>\n",
       "      <td>38</td>\n",
       "      <td>Private</td>\n",
       "      <td>215646</td>\n",
       "      <td>HS-grad</td>\n",
       "      <td>9</td>\n",
       "      <td>Divorced</td>\n",
       "      <td>Handlers-cleaners</td>\n",
       "      <td>Not-in-family</td>\n",
       "      <td>White</td>\n",
       "      <td>Male</td>\n",
       "      <td>0</td>\n",
       "      <td>0</td>\n",
       "      <td>40</td>\n",
       "      <td>United-States</td>\n",
       "      <td>&lt;=50K.</td>\n",
       "    </tr>\n",
       "    <tr>\n",
       "      <th>3</th>\n",
       "      <td>53</td>\n",
       "      <td>Private</td>\n",
       "      <td>234721</td>\n",
       "      <td>11th</td>\n",
       "      <td>7</td>\n",
       "      <td>Married-civ-spouse</td>\n",
       "      <td>Handlers-cleaners</td>\n",
       "      <td>Husband</td>\n",
       "      <td>Black</td>\n",
       "      <td>Male</td>\n",
       "      <td>0</td>\n",
       "      <td>0</td>\n",
       "      <td>40</td>\n",
       "      <td>United-States</td>\n",
       "      <td>&lt;=50K.</td>\n",
       "    </tr>\n",
       "    <tr>\n",
       "      <th>4</th>\n",
       "      <td>28</td>\n",
       "      <td>Private</td>\n",
       "      <td>338409</td>\n",
       "      <td>Bachelors</td>\n",
       "      <td>13</td>\n",
       "      <td>Married-civ-spouse</td>\n",
       "      <td>Prof-specialty</td>\n",
       "      <td>Wife</td>\n",
       "      <td>Black</td>\n",
       "      <td>Female</td>\n",
       "      <td>0</td>\n",
       "      <td>0</td>\n",
       "      <td>40</td>\n",
       "      <td>Cuba</td>\n",
       "      <td>&lt;=50K.</td>\n",
       "    </tr>\n",
       "    <tr>\n",
       "      <th>...</th>\n",
       "      <td>...</td>\n",
       "      <td>...</td>\n",
       "      <td>...</td>\n",
       "      <td>...</td>\n",
       "      <td>...</td>\n",
       "      <td>...</td>\n",
       "      <td>...</td>\n",
       "      <td>...</td>\n",
       "      <td>...</td>\n",
       "      <td>...</td>\n",
       "      <td>...</td>\n",
       "      <td>...</td>\n",
       "      <td>...</td>\n",
       "      <td>...</td>\n",
       "      <td>...</td>\n",
       "    </tr>\n",
       "    <tr>\n",
       "      <th>24995</th>\n",
       "      <td>41</td>\n",
       "      <td>Private</td>\n",
       "      <td>112507</td>\n",
       "      <td>10th</td>\n",
       "      <td>6</td>\n",
       "      <td>Married-civ-spouse</td>\n",
       "      <td>Transport-moving</td>\n",
       "      <td>Husband</td>\n",
       "      <td>White</td>\n",
       "      <td>Male</td>\n",
       "      <td>0</td>\n",
       "      <td>0</td>\n",
       "      <td>60</td>\n",
       "      <td>United-States</td>\n",
       "      <td>&lt;=50K.</td>\n",
       "    </tr>\n",
       "    <tr>\n",
       "      <th>24996</th>\n",
       "      <td>19</td>\n",
       "      <td>Private</td>\n",
       "      <td>236940</td>\n",
       "      <td>HS-grad</td>\n",
       "      <td>9</td>\n",
       "      <td>Never-married</td>\n",
       "      <td>Farming-fishing</td>\n",
       "      <td>Own-child</td>\n",
       "      <td>White</td>\n",
       "      <td>Male</td>\n",
       "      <td>0</td>\n",
       "      <td>0</td>\n",
       "      <td>40</td>\n",
       "      <td>United-States</td>\n",
       "      <td>&lt;=50K.</td>\n",
       "    </tr>\n",
       "    <tr>\n",
       "      <th>24997</th>\n",
       "      <td>33</td>\n",
       "      <td>Private</td>\n",
       "      <td>278514</td>\n",
       "      <td>HS-grad</td>\n",
       "      <td>9</td>\n",
       "      <td>Divorced</td>\n",
       "      <td>Craft-repair</td>\n",
       "      <td>Own-child</td>\n",
       "      <td>White</td>\n",
       "      <td>Female</td>\n",
       "      <td>0</td>\n",
       "      <td>0</td>\n",
       "      <td>42</td>\n",
       "      <td>United-States</td>\n",
       "      <td>&lt;=50K.</td>\n",
       "    </tr>\n",
       "    <tr>\n",
       "      <th>24998</th>\n",
       "      <td>21</td>\n",
       "      <td>?</td>\n",
       "      <td>433330</td>\n",
       "      <td>Some-college</td>\n",
       "      <td>10</td>\n",
       "      <td>Never-married</td>\n",
       "      <td>?</td>\n",
       "      <td>Unmarried</td>\n",
       "      <td>White</td>\n",
       "      <td>Male</td>\n",
       "      <td>0</td>\n",
       "      <td>0</td>\n",
       "      <td>40</td>\n",
       "      <td>United-States</td>\n",
       "      <td>&lt;=50K.</td>\n",
       "    </tr>\n",
       "    <tr>\n",
       "      <th>24999</th>\n",
       "      <td>25</td>\n",
       "      <td>Private</td>\n",
       "      <td>258379</td>\n",
       "      <td>Bachelors</td>\n",
       "      <td>13</td>\n",
       "      <td>Married-civ-spouse</td>\n",
       "      <td>Prof-specialty</td>\n",
       "      <td>Wife</td>\n",
       "      <td>White</td>\n",
       "      <td>Female</td>\n",
       "      <td>0</td>\n",
       "      <td>0</td>\n",
       "      <td>32</td>\n",
       "      <td>United-States</td>\n",
       "      <td>&lt;=50K.</td>\n",
       "    </tr>\n",
       "  </tbody>\n",
       "</table>\n",
       "<p>25000 rows × 15 columns</p>\n",
       "</div>\n",
       "      <button class=\"colab-df-convert\" onclick=\"convertToInteractive('df-68724ddd-b505-4e00-867a-ebc2c97aae2b')\"\n",
       "              title=\"Convert this dataframe to an interactive table.\"\n",
       "              style=\"display:none;\">\n",
       "        \n",
       "  <svg xmlns=\"http://www.w3.org/2000/svg\" height=\"24px\"viewBox=\"0 0 24 24\"\n",
       "       width=\"24px\">\n",
       "    <path d=\"M0 0h24v24H0V0z\" fill=\"none\"/>\n",
       "    <path d=\"M18.56 5.44l.94 2.06.94-2.06 2.06-.94-2.06-.94-.94-2.06-.94 2.06-2.06.94zm-11 1L8.5 8.5l.94-2.06 2.06-.94-2.06-.94L8.5 2.5l-.94 2.06-2.06.94zm10 10l.94 2.06.94-2.06 2.06-.94-2.06-.94-.94-2.06-.94 2.06-2.06.94z\"/><path d=\"M17.41 7.96l-1.37-1.37c-.4-.4-.92-.59-1.43-.59-.52 0-1.04.2-1.43.59L10.3 9.45l-7.72 7.72c-.78.78-.78 2.05 0 2.83L4 21.41c.39.39.9.59 1.41.59.51 0 1.02-.2 1.41-.59l7.78-7.78 2.81-2.81c.8-.78.8-2.07 0-2.86zM5.41 20L4 18.59l7.72-7.72 1.47 1.35L5.41 20z\"/>\n",
       "  </svg>\n",
       "      </button>\n",
       "      \n",
       "  <style>\n",
       "    .colab-df-container {\n",
       "      display:flex;\n",
       "      flex-wrap:wrap;\n",
       "      gap: 12px;\n",
       "    }\n",
       "\n",
       "    .colab-df-convert {\n",
       "      background-color: #E8F0FE;\n",
       "      border: none;\n",
       "      border-radius: 50%;\n",
       "      cursor: pointer;\n",
       "      display: none;\n",
       "      fill: #1967D2;\n",
       "      height: 32px;\n",
       "      padding: 0 0 0 0;\n",
       "      width: 32px;\n",
       "    }\n",
       "\n",
       "    .colab-df-convert:hover {\n",
       "      background-color: #E2EBFA;\n",
       "      box-shadow: 0px 1px 2px rgba(60, 64, 67, 0.3), 0px 1px 3px 1px rgba(60, 64, 67, 0.15);\n",
       "      fill: #174EA6;\n",
       "    }\n",
       "\n",
       "    [theme=dark] .colab-df-convert {\n",
       "      background-color: #3B4455;\n",
       "      fill: #D2E3FC;\n",
       "    }\n",
       "\n",
       "    [theme=dark] .colab-df-convert:hover {\n",
       "      background-color: #434B5C;\n",
       "      box-shadow: 0px 1px 3px 1px rgba(0, 0, 0, 0.15);\n",
       "      filter: drop-shadow(0px 1px 2px rgba(0, 0, 0, 0.3));\n",
       "      fill: #FFFFFF;\n",
       "    }\n",
       "  </style>\n",
       "\n",
       "      <script>\n",
       "        const buttonEl =\n",
       "          document.querySelector('#df-68724ddd-b505-4e00-867a-ebc2c97aae2b button.colab-df-convert');\n",
       "        buttonEl.style.display =\n",
       "          google.colab.kernel.accessAllowed ? 'block' : 'none';\n",
       "\n",
       "        async function convertToInteractive(key) {\n",
       "          const element = document.querySelector('#df-68724ddd-b505-4e00-867a-ebc2c97aae2b');\n",
       "          const dataTable =\n",
       "            await google.colab.kernel.invokeFunction('convertToInteractive',\n",
       "                                                     [key], {});\n",
       "          if (!dataTable) return;\n",
       "\n",
       "          const docLinkHtml = 'Like what you see? Visit the ' +\n",
       "            '<a target=\"_blank\" href=https://colab.research.google.com/notebooks/data_table.ipynb>data table notebook</a>'\n",
       "            + ' to learn more about interactive tables.';\n",
       "          element.innerHTML = '';\n",
       "          dataTable['output_type'] = 'display_data';\n",
       "          await google.colab.output.renderOutput(dataTable, element);\n",
       "          const docLink = document.createElement('div');\n",
       "          docLink.innerHTML = docLinkHtml;\n",
       "          element.appendChild(docLink);\n",
       "        }\n",
       "      </script>\n",
       "    </div>\n",
       "  </div>\n",
       "  "
      ],
      "text/plain": [
       "       age         workclass  ...  native-country  income\n",
       "0       39         State-gov  ...   United-States  <=50K.\n",
       "1       50  Self-emp-not-inc  ...   United-States  <=50K.\n",
       "2       38           Private  ...   United-States  <=50K.\n",
       "3       53           Private  ...   United-States  <=50K.\n",
       "4       28           Private  ...            Cuba  <=50K.\n",
       "...    ...               ...  ...             ...     ...\n",
       "24995   41           Private  ...   United-States  <=50K.\n",
       "24996   19           Private  ...   United-States  <=50K.\n",
       "24997   33           Private  ...   United-States  <=50K.\n",
       "24998   21                 ?  ...   United-States  <=50K.\n",
       "24999   25           Private  ...   United-States  <=50K.\n",
       "\n",
       "[25000 rows x 15 columns]"
      ]
     },
     "execution_count": 3,
     "metadata": {},
     "output_type": "execute_result"
    }
   ],
   "source": [
    "import numpy as np\n",
    "import matplotlib.pyplot as plt\n",
    "import seaborn as sns\n",
    "import pandas as pd\n",
    "\n",
    "URL_adult='https://raw.githubusercontent.com/kamranbakhtiari/DESC624/main/Adult'\n",
    "adult = pd.read_csv(URL_adult)\n",
    "\n",
    "adult\n"
   ]
  },
  {
   "cell_type": "markdown",
   "metadata": {
    "id": "xujDJlgGNdSt"
   },
   "source": [
    "**1. Partition the data set, so that 50% of the records are included in the training data set and 50% are included in the test data set.  Use a bar graph to conifrm your proportions**\n",
    "\n",
    "\n",
    "\n"
   ]
  },
  {
   "cell_type": "code",
   "execution_count": null,
   "metadata": {
    "colab": {
     "base_uri": "https://localhost:8080/",
     "height": 280
    },
    "id": "CHDeKB_bNza5",
    "outputId": "a552f4ee-a31c-4677-8825-a67bf8f6831c"
   },
   "outputs": [
    {
     "data": {
      "image/png": "[encoded data removed]",
      "text/plain": [
       "<Figure size 432x288 with 1 Axes>"
      ]
     },
     "metadata": {
      "needs_background": "light"
     },
     "output_type": "display_data"
    }
   ],
   "source": [
    "from sklearn.model_selection import train_test_split\n",
    "import random\n",
    "\n",
    "#Partition the data set. 50% of the records are included in the training data set and 50% are included in the test data set.\n",
    "adult_train, adult_test = train_test_split(adult, test_size=0.5, random_state=42)\n",
    "adult_train.shape\n",
    "\n",
    "#Plot the count of the records of training and testing data set.\n",
    "bargraph = pd.DataFrame({\"Group\":[\"adult_train\", \"adult_test\"], \"Count\":[len(adult_train),len(adult_test)]})\n",
    "bargraph.plot.bar(x=\"Group\", y=\"Count\", legend=None)\n",
    "plt.xticks(rotation=360)\n",
    "plt.show()"
   ]
  },
  {
   "cell_type": "markdown",
   "metadata": {
    "id": "9m5Z9SUiN902"
   },
   "source": [
    "**2. Identify the total number of records in the training data set, and how many records in the training data set have an income value of < 50k**"
   ]
  },
  {
   "cell_type": "code",
   "execution_count": null,
   "metadata": {
    "colab": {
     "base_uri": "https://localhost:8080/"
    },
    "id": "j1-jL8vNOLHq",
    "outputId": "e2a8a69b-4978-419c-f072-db70490ba68f"
   },
   "outputs": [
    {
     "data": {
      "text/plain": [
       "(12500, 15)"
      ]
     },
     "execution_count": 9,
     "metadata": {},
     "output_type": "execute_result"
    }
   ],
   "source": [
    "#Identify the total number of records in the training data set\n",
    "adult_train.shape"
   ]
  },
  {
   "cell_type": "code",
   "execution_count": null,
   "metadata": {
    "colab": {
     "base_uri": "https://localhost:8080/"
    },
    "id": "VyUbxUhXZgi9",
    "outputId": "9b6b1ed5-f8a6-4f28-8881-4f0a23e8df2d"
   },
   "outputs": [
    {
     "data": {
      "text/plain": [
       "(9543, 15)"
      ]
     },
     "execution_count": 10,
     "metadata": {},
     "output_type": "execute_result"
    }
   ],
   "source": [
    "#how many records in the training data set have an income value of <= 50k\n",
    "adult_train[adult_train[\"income\"]==\"<=50K.\"].shape\n",
    "#Training data set has 9543 records of value <= 50k"
   ]
  },
  {
   "cell_type": "markdown",
   "metadata": {
    "id": "kUaTYgj7Ou9e"
   },
   "source": [
    "**3. Calculate how many records with income >50k you need to resmaple in order to have 35% of the rebalanced data set have incomes of >50k**"
   ]
  },
  {
   "cell_type": "code",
   "execution_count": null,
   "metadata": {
    "colab": {
     "base_uri": "https://localhost:8080/"
    },
    "id": "zi3dD24DP7y6",
    "outputId": "7b562c35-7f2a-4532-e055-eb12c6aad23c"
   },
   "outputs": [
    {
     "name": "stdout",
     "output_type": "stream",
     "text": [
      "There are 2957 records of incomes > 50k\n",
      "35% of the data: 4375.0 records\n"
     ]
    }
   ],
   "source": [
    "print(f\"There are {12500-9543} records of incomes > 50k\")\n",
    "print(f\"35% of the data: {0.35*len(adult_train)} records\")"
   ]
  },
  {
   "cell_type": "code",
   "execution_count": null,
   "metadata": {
    "colab": {
     "base_uri": "https://localhost:8080/"
    },
    "id": "s-1Ejgkb2dJ2",
    "outputId": "a9905eaa-85e2-4b29-e8bf-70515bd9cb75"
   },
   "outputs": [
    {
     "name": "stdout",
     "output_type": "stream",
     "text": [
      "Thus, we need 2182 more records to resample in order to have 35% of the rebalanced data set have incomes of >50k\n"
     ]
    }
   ],
   "source": [
    "print(f\"Thus, we need {round((0.35*len(adult_train) - 2957)/(1-0.35))} more records to resample in order to have 35% of the rebalanced data set have incomes of >50k\")"
   ]
  },
  {
   "cell_type": "markdown",
   "metadata": {
    "id": "nCax9VPUQACJ"
   },
   "source": [
    "**4. Perform the rebalancing described in the previous exercise and confirm that 35% of the records in the rebalanced data set have incomes >50k**"
   ]
  },
  {
   "cell_type": "code",
   "execution_count": null,
   "metadata": {
    "colab": {
     "base_uri": "https://localhost:8080/"
    },
    "id": "PkoTGcubRfDV",
    "outputId": "5c07c7f0-9147-4c93-915c-6fedd3b2b873"
   },
   "outputs": [
    {
     "data": {
      "text/plain": [
       "<=50K.    0.64998\n",
       ">50K.     0.35002\n",
       "Name: income, dtype: float64"
      ]
     },
     "execution_count": 26,
     "metadata": {},
     "output_type": "execute_result"
    }
   ],
   "source": [
    "to_resample = adult_train.loc[adult_train[\"income\"]==\">50K.\"]\n",
    "our_resample = to_resample.sample(n = 2182, replace = True)\n",
    "\n",
    "#We add the resampled records to our original training data set\n",
    "adult_train_rebal = pd.concat([adult_train, our_resample])\n",
    "adult_train_rebal[\"income\"].value_counts()/len(adult_train_rebal)"
   ]
  },
  {
   "cell_type": "markdown",
   "metadata": {
    "id": "h6FkRmCHRnYk"
   },
   "source": [
    "**5. Validate your partition by performing a two-sample Z-test for the difference in means for the mean age in the training set versus the mean age in the test set?**"
   ]
  },
  {
   "cell_type": "code",
   "execution_count": null,
   "metadata": {
    "colab": {
     "base_uri": "https://localhost:8080/"
    },
    "id": "KK6POUfCR1_o",
    "outputId": "11c0c5e7-04b4-4e1e-b1d7-36d6d3fd371b"
   },
   "outputs": [
    {
     "name": "stdout",
     "output_type": "stream",
     "text": [
      "The two-sample Z-test is 4.8207829664780135\n"
     ]
    }
   ],
   "source": [
    "from statsmodels.stats.weightstats import ztest \n",
    "stat, p_value = ztest(adult_train_rebal[\"age\"], adult_test[\"age\"], value = 0)\n",
    "print(f\"The two-sample Z-test is {stat}\")"
   ]
  },
  {
   "cell_type": "markdown",
   "metadata": {
    "id": "Q3lSLp4HSRam"
   },
   "source": [
    "**6. Validate your partition by performing a two-sample Z-test for the difference in proportion of >50k records in the training set versus the proportion of >50k records in the test set?**"
   ]
  },
  {
   "cell_type": "code",
   "execution_count": null,
   "metadata": {
    "colab": {
     "base_uri": "https://localhost:8080/"
    },
    "id": "7W9RmFzZSgJO",
    "outputId": "69a261a5-d7b3-40ab-f37b-7db73f85423f"
   },
   "outputs": [
    {
     "name": "stdout",
     "output_type": "stream",
     "text": [
      "The two-sample Z-test is 19.332419409947466, and the P-value is 2.866551737802054e-83\n"
     ]
    }
   ],
   "source": [
    "from statsmodels.stats.proportion import proportions_ztest\n",
    "import numpy as np\n",
    "\n",
    "train_size = len(adult_train_rebal)\n",
    "test_size = len(adult_test)\n",
    "greater_50k_train = len(adult_train_rebal[adult_train_rebal[\"income\"] == \">50K.\"]) \n",
    "greater_50k_test = len(adult_test[adult_test[\"income\"] == \">50K.\"]) \n",
    "\n",
    "stat, p_value = proportions_ztest(count = np.array([greater_50k_train, greater_50k_test]), nobs = np.array([train_size, test_size]),  alternative = 'two-sided')  \n",
    "print(f\"The two-sample Z-test is {stat}, and the P-value is {p_value}\")"
   ]
  },
  {
   "cell_type": "markdown",
   "metadata": {
    "id": "1zO6VWw3SkT_"
   },
   "source": [
    "***Classification 2***"
   ]
  },
  {
   "cell_type": "code",
   "execution_count": null,
   "metadata": {
    "colab": {
     "base_uri": "https://localhost:8080/",
     "height": 424
    },
    "id": "Fv1-SSWnS3He",
    "outputId": "6841789f-6df0-44f7-cdbb-4e27ca483efa"
   },
   "outputs": [
    {
     "data": {
      "text/html": [
       "\n",
       "  <div id=\"df-e614591a-ec47-412d-9761-4705a8c5fa2d\">\n",
       "    <div class=\"colab-df-container\">\n",
       "      <div>\n",
       "<style scoped>\n",
       "    .dataframe tbody tr th:only-of-type {\n",
       "        vertical-align: middle;\n",
       "    }\n",
       "\n",
       "    .dataframe tbody tr th {\n",
       "        vertical-align: top;\n",
       "    }\n",
       "\n",
       "    .dataframe thead th {\n",
       "        text-align: right;\n",
       "    }\n",
       "</style>\n",
       "<table border=\"1\" class=\"dataframe\">\n",
       "  <thead>\n",
       "    <tr style=\"text-align: right;\">\n",
       "      <th></th>\n",
       "      <th>Approval</th>\n",
       "      <th>Debt-to-Income Ratio</th>\n",
       "      <th>FICO Score</th>\n",
       "      <th>Request Amount</th>\n",
       "      <th>Interest</th>\n",
       "    </tr>\n",
       "  </thead>\n",
       "  <tbody>\n",
       "    <tr>\n",
       "      <th>0</th>\n",
       "      <td>F</td>\n",
       "      <td>0.00</td>\n",
       "      <td>397</td>\n",
       "      <td>1000</td>\n",
       "      <td>450.0</td>\n",
       "    </tr>\n",
       "    <tr>\n",
       "      <th>1</th>\n",
       "      <td>F</td>\n",
       "      <td>0.00</td>\n",
       "      <td>403</td>\n",
       "      <td>500</td>\n",
       "      <td>225.0</td>\n",
       "    </tr>\n",
       "    <tr>\n",
       "      <th>2</th>\n",
       "      <td>F</td>\n",
       "      <td>0.00</td>\n",
       "      <td>408</td>\n",
       "      <td>1000</td>\n",
       "      <td>450.0</td>\n",
       "    </tr>\n",
       "    <tr>\n",
       "      <th>3</th>\n",
       "      <td>F</td>\n",
       "      <td>0.00</td>\n",
       "      <td>408</td>\n",
       "      <td>2000</td>\n",
       "      <td>900.0</td>\n",
       "    </tr>\n",
       "    <tr>\n",
       "      <th>4</th>\n",
       "      <td>F</td>\n",
       "      <td>0.00</td>\n",
       "      <td>411</td>\n",
       "      <td>5000</td>\n",
       "      <td>2250.0</td>\n",
       "    </tr>\n",
       "    <tr>\n",
       "      <th>...</th>\n",
       "      <td>...</td>\n",
       "      <td>...</td>\n",
       "      <td>...</td>\n",
       "      <td>...</td>\n",
       "      <td>...</td>\n",
       "    </tr>\n",
       "    <tr>\n",
       "      <th>150297</th>\n",
       "      <td>T</td>\n",
       "      <td>0.38</td>\n",
       "      <td>709</td>\n",
       "      <td>19000</td>\n",
       "      <td>8550.0</td>\n",
       "    </tr>\n",
       "    <tr>\n",
       "      <th>150298</th>\n",
       "      <td>T</td>\n",
       "      <td>0.38</td>\n",
       "      <td>722</td>\n",
       "      <td>17000</td>\n",
       "      <td>7650.0</td>\n",
       "    </tr>\n",
       "    <tr>\n",
       "      <th>150299</th>\n",
       "      <td>T</td>\n",
       "      <td>0.38</td>\n",
       "      <td>747</td>\n",
       "      <td>11000</td>\n",
       "      <td>4950.0</td>\n",
       "    </tr>\n",
       "    <tr>\n",
       "      <th>150300</th>\n",
       "      <td>T</td>\n",
       "      <td>0.39</td>\n",
       "      <td>679</td>\n",
       "      <td>10000</td>\n",
       "      <td>4500.0</td>\n",
       "    </tr>\n",
       "    <tr>\n",
       "      <th>150301</th>\n",
       "      <td>T</td>\n",
       "      <td>0.39</td>\n",
       "      <td>769</td>\n",
       "      <td>7000</td>\n",
       "      <td>3150.0</td>\n",
       "    </tr>\n",
       "  </tbody>\n",
       "</table>\n",
       "<p>150302 rows × 5 columns</p>\n",
       "</div>\n",
       "      <button class=\"colab-df-convert\" onclick=\"convertToInteractive('df-e614591a-ec47-412d-9761-4705a8c5fa2d')\"\n",
       "              title=\"Convert this dataframe to an interactive table.\"\n",
       "              style=\"display:none;\">\n",
       "        \n",
       "  <svg xmlns=\"http://www.w3.org/2000/svg\" height=\"24px\"viewBox=\"0 0 24 24\"\n",
       "       width=\"24px\">\n",
       "    <path d=\"M0 0h24v24H0V0z\" fill=\"none\"/>\n",
       "    <path d=\"M18.56 5.44l.94 2.06.94-2.06 2.06-.94-2.06-.94-.94-2.06-.94 2.06-2.06.94zm-11 1L8.5 8.5l.94-2.06 2.06-.94-2.06-.94L8.5 2.5l-.94 2.06-2.06.94zm10 10l.94 2.06.94-2.06 2.06-.94-2.06-.94-.94-2.06-.94 2.06-2.06.94z\"/><path d=\"M17.41 7.96l-1.37-1.37c-.4-.4-.92-.59-1.43-.59-.52 0-1.04.2-1.43.59L10.3 9.45l-7.72 7.72c-.78.78-.78 2.05 0 2.83L4 21.41c.39.39.9.59 1.41.59.51 0 1.02-.2 1.41-.59l7.78-7.78 2.81-2.81c.8-.78.8-2.07 0-2.86zM5.41 20L4 18.59l7.72-7.72 1.47 1.35L5.41 20z\"/>\n",
       "  </svg>\n",
       "      </button>\n",
       "      \n",
       "  <style>\n",
       "    .colab-df-container {\n",
       "      display:flex;\n",
       "      flex-wrap:wrap;\n",
       "      gap: 12px;\n",
       "    }\n",
       "\n",
       "    .colab-df-convert {\n",
       "      background-color: #E8F0FE;\n",
       "      border: none;\n",
       "      border-radius: 50%;\n",
       "      cursor: pointer;\n",
       "      display: none;\n",
       "      fill: #1967D2;\n",
       "      height: 32px;\n",
       "      padding: 0 0 0 0;\n",
       "      width: 32px;\n",
       "    }\n",
       "\n",
       "    .colab-df-convert:hover {\n",
       "      background-color: #E2EBFA;\n",
       "      box-shadow: 0px 1px 2px rgba(60, 64, 67, 0.3), 0px 1px 3px 1px rgba(60, 64, 67, 0.15);\n",
       "      fill: #174EA6;\n",
       "    }\n",
       "\n",
       "    [theme=dark] .colab-df-convert {\n",
       "      background-color: #3B4455;\n",
       "      fill: #D2E3FC;\n",
       "    }\n",
       "\n",
       "    [theme=dark] .colab-df-convert:hover {\n",
       "      background-color: #434B5C;\n",
       "      box-shadow: 0px 1px 3px 1px rgba(0, 0, 0, 0.15);\n",
       "      filter: drop-shadow(0px 1px 2px rgba(0, 0, 0, 0.3));\n",
       "      fill: #FFFFFF;\n",
       "    }\n",
       "  </style>\n",
       "\n",
       "      <script>\n",
       "        const buttonEl =\n",
       "          document.querySelector('#df-e614591a-ec47-412d-9761-4705a8c5fa2d button.colab-df-convert');\n",
       "        buttonEl.style.display =\n",
       "          google.colab.kernel.accessAllowed ? 'block' : 'none';\n",
       "\n",
       "        async function convertToInteractive(key) {\n",
       "          const element = document.querySelector('#df-e614591a-ec47-412d-9761-4705a8c5fa2d');\n",
       "          const dataTable =\n",
       "            await google.colab.kernel.invokeFunction('convertToInteractive',\n",
       "                                                     [key], {});\n",
       "          if (!dataTable) return;\n",
       "\n",
       "          const docLinkHtml = 'Like what you see? Visit the ' +\n",
       "            '<a target=\"_blank\" href=https://colab.research.google.com/notebooks/data_table.ipynb>data table notebook</a>'\n",
       "            + ' to learn more about interactive tables.';\n",
       "          element.innerHTML = '';\n",
       "          dataTable['output_type'] = 'display_data';\n",
       "          await google.colab.output.renderOutput(dataTable, element);\n",
       "          const docLink = document.createElement('div');\n",
       "          docLink.innerHTML = docLinkHtml;\n",
       "          element.appendChild(docLink);\n",
       "        }\n",
       "      </script>\n",
       "    </div>\n",
       "  </div>\n",
       "  "
      ],
      "text/plain": [
       "       Approval  Debt-to-Income Ratio  FICO Score  Request Amount  Interest\n",
       "0             F                  0.00         397            1000     450.0\n",
       "1             F                  0.00         403             500     225.0\n",
       "2             F                  0.00         408            1000     450.0\n",
       "3             F                  0.00         408            2000     900.0\n",
       "4             F                  0.00         411            5000    2250.0\n",
       "...         ...                   ...         ...             ...       ...\n",
       "150297        T                  0.38         709           19000    8550.0\n",
       "150298        T                  0.38         722           17000    7650.0\n",
       "150299        T                  0.38         747           11000    4950.0\n",
       "150300        T                  0.39         679           10000    4500.0\n",
       "150301        T                  0.39         769            7000    3150.0\n",
       "\n",
       "[150302 rows x 5 columns]"
      ]
     },
     "execution_count": 56,
     "metadata": {},
     "output_type": "execute_result"
    }
   ],
   "source": [
    "import pandas as pd\n",
    "\n",
    "URL_loan_training='https://raw.githubusercontent.com/kamranbakhtiari/DESC624/main/Loans_Training'\n",
    "URL_loan_test='https://raw.githubusercontent.com/kamranbakhtiari/DESC624/main/Loans_Test'\n",
    "\n",
    "loan_test = pd.read_csv(URL_loan_test)\n",
    "loan_training = pd.read_csv(URL_loan_training)\n",
    "\n",
    "loan_test\n",
    "loan_training"
   ]
  },
  {
   "cell_type": "markdown",
   "metadata": {
    "id": "OAPRjRlTS2sm"
   },
   "source": [
    "**7. Create a CART model using the training data set that predicts Approval using Debt to Income Ratio, FICO score, and Request Amount. Visualize the decision Tree**"
   ]
  },
  {
   "cell_type": "code",
   "execution_count": null,
   "metadata": {
    "colab": {
     "base_uri": "https://localhost:8080/",
     "height": 594
    },
    "id": "8L_g08A5TT72",
    "outputId": "dfef107f-1dea-403e-ec5f-d1ae2194ae66"
   },
   "outputs": [
    {
     "data": {
      "image/png": "[encoded data removed]",
      "text/plain": [
       "<IPython.core.display.Image object>"
      ]
     },
     "execution_count": 60,
     "metadata": {},
     "output_type": "execute_result"
    }
   ],
   "source": [
    "from six import StringIO\n",
    "from sklearn.tree import DecisionTreeClassifier\n",
    "from sklearn.metrics import confusion_matrix\n",
    "from sklearn.tree import export_graphviz\n",
    "from IPython.display import Image \n",
    "from pydot import graph_from_dot_data\n",
    "\n",
    "y = loan_training[[\"Approval\"]] #Target variable\n",
    "x = loan_training.iloc[:, 1:4] #Predictor variables\n",
    "\n",
    "y_names = [\"True\", \"False\"]\n",
    "dt = DecisionTreeClassifier(criterion = 'gini', max_leaf_nodes=5).fit(x,y)\n",
    "\n",
    "dot_data = StringIO()\n",
    "export_graphviz(dt, out_file=dot_data, feature_names=x.columns.values, class_names=y_names)\n",
    "(graph, ) = graph_from_dot_data(dot_data.getvalue())\n",
    "Image(graph.create_png())\n"
   ]
  },
  {
   "cell_type": "code",
   "execution_count": null,
   "metadata": {
    "colab": {
     "base_uri": "https://localhost:8080/"
    },
    "id": "aHyRUkDlZoVm",
    "outputId": "7d18aa75-892b-4340-e699-d34122e7369a"
   },
   "outputs": [
    {
     "name": "stdout",
     "output_type": "stream",
     "text": [
      "The first few splits are FICO<=659.5 or not? Debt-to-Income Ratio<=0.305 or not? \n",
      "And then uses Request Amount and Debt-to-Income Ratio to split to leaves.\n",
      "--------------------------------------------------------------------------------\n",
      "Value represent how the samples are split up.\n",
      "For example, the value of the root means there are 75066 data has FICO score<=659.5; 75236 otherwise.\n",
      "--------------------------------------------------------------------------------\n",
      "The sample size for the root is 150302. The sample size for each node shows in the boxes accordingly.\n",
      "For example, the sample size for Request Amount<=25500 is 91427.\n"
     ]
    }
   ],
   "source": [
    "print(\"The first few splits are FICO<=659.5 or not? Debt-to-Income Ratio<=0.305 or not? \\nAnd then uses Request Amount and Debt-to-Income Ratio to split to leaves.\" )\n",
    "print(\"--------------------------------------------------------------------------------\")\n",
    "print(\"Value represent how the samples are split up.\\nFor example, the value of the root means there are 75066 data has FICO score<=659.5; 75236 otherwise.\")\n",
    "print(\"--------------------------------------------------------------------------------\")\n",
    "print(\"The sample size for the root is 150302. The sample size for each node shows in the boxes accordingly.\\nFor example, the sample size for Request Amount<=25500 is 91427.\")"
   ]
  },
  {
   "cell_type": "markdown",
   "metadata": {
    "id": "lh92b33bTX7n"
   },
   "source": [
    "**8. Create a CART model using the test data set that uses the same target and predictor variables.  Visualize the decision Tree**"
   ]
  },
  {
   "cell_type": "code",
   "execution_count": null,
   "metadata": {
    "colab": {
     "base_uri": "https://localhost:8080/",
     "height": 594
    },
    "id": "EPnmtawiTp7j",
    "outputId": "140324eb-eb88-4b24-a288-0f54bb955548"
   },
   "outputs": [
    {
     "data": {
      "image/png": "[encoded data removed]",
      "text/plain": [
       "<IPython.core.display.Image object>"
      ]
     },
     "execution_count": 61,
     "metadata": {},
     "output_type": "execute_result"
    }
   ],
   "source": [
    "y = loan_test[[\"Approval\"]] #Target variable\n",
    "x = loan_test.iloc[:, 1:4] #Predictor variables\n",
    "\n",
    "y_names = [\"True\", \"False\"]\n",
    "dt = DecisionTreeClassifier(criterion = 'gini', max_leaf_nodes=5).fit(x,y)\n",
    "\n",
    "dot_data = StringIO()\n",
    "export_graphviz(dt, out_file=dot_data, feature_names=x.columns.values, class_names=y_names)\n",
    "(graph, ) = graph_from_dot_data(dot_data.getvalue())\n",
    "Image(graph.create_png())"
   ]
  },
  {
   "cell_type": "code",
   "execution_count": null,
   "metadata": {
    "colab": {
     "base_uri": "https://localhost:8080/"
    },
    "id": "5qsqLf1rfpb7",
    "outputId": "66421e80-f381-4893-b668-f9c7762b76b8"
   },
   "outputs": [
    {
     "name": "stdout",
     "output_type": "stream",
     "text": [
      "The first few splits are FICO<=660.5 or not? Debt-to-Income Ratio<=0.305 or not? And FICO<=651.5 or not \n",
      "Finally, uses Request Amount<=24500 to split .\n",
      "--------------------------------------------------------------------------------\n",
      "Value represent how the samples are split up.\n",
      "For example, the value of the root means there are 24934 data has FICO score<=660.5; 24764 otherwise.\n",
      "--------------------------------------------------------------------------------\n",
      "The sample size for the root is 49698. The sample size for each node shows in the boxes accordingly.\n",
      "For example, the sample size for Debt-to-Income Ratio<=0.305 is 34217.\n"
     ]
    }
   ],
   "source": [
    "print(\"The first few splits are FICO<=660.5 or not? Debt-to-Income Ratio<=0.305 or not? And FICO<=651.5 or not \\nFinally, uses Request Amount<=24500 to split .\" )\n",
    "print(\"--------------------------------------------------------------------------------\")\n",
    "print(\"Value represent how the samples are split up.\\nFor example, the value of the root means there are 24934 data has FICO score<=660.5; 24764 otherwise.\")\n",
    "print(\"--------------------------------------------------------------------------------\")\n",
    "print(\"The sample size for the root is 49698. The sample size for each node shows in the boxes accordingly.\\nFor example, the sample size for Debt-to-Income Ratio<=0.305 is 34217.\")"
   ]
  }
 ],
 "metadata": {
  "colab": {
   "collapsed_sections": [],
   "name": "YungHan_Yang_Homework1.ipynb",
   "provenance": []
  },
  "kernelspec": {
   "display_name": "Python 3",
   "language": "python",
   "name": "python3"
  },
  "language_info": {
   "codemirror_mode": {
    "name": "ipython",
    "version": 3
   },
   "file_extension": ".py",
   "mimetype": "text/x-python",
   "name": "python",
   "nbconvert_exporter": "python",
   "pygments_lexer": "ipython3",
   "version": "3.8.8"
  }
 },
 "nbformat": 4,
 "nbformat_minor": 1
}
