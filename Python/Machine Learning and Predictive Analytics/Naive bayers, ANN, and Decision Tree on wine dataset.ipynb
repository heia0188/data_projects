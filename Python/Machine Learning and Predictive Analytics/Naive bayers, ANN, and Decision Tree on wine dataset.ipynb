{
 "cells": [
  {
   "cell_type": "markdown",
   "metadata": {
    "id": "BbD3CO0-Cbd3"
   },
   "source": [
    "With what information does Bayes Theorem update our previous knowledge about the data parameters?"
   ]
  },
  {
   "cell_type": "markdown",
   "metadata": {
    "id": "7C4Y0JMdpOp4"
   },
   "source": [
    "- Posterior probability is calculated by updating the prior probability by using Bayes' theorem."
   ]
  },
  {
   "cell_type": "markdown",
   "metadata": {
    "id": "w5RvhnyGCgDL"
   },
   "source": [
    "What does the prior probability represent?"
   ]
  },
  {
   "cell_type": "markdown",
   "metadata": {
    "id": "TK-iFL0HqgdQ"
   },
   "source": [
    "- Prior probability is the probability of an event before new data is collected. It represents what is originally believed before new evidence is introduced."
   ]
  },
  {
   "cell_type": "markdown",
   "metadata": {
    "id": "HP72RcNfq_yS"
   },
   "source": [
    "# **Step by Step:**"
   ]
  },
  {
   "cell_type": "markdown",
   "metadata": {
    "id": "bh36n11CrMEE"
   },
   "source": [
    "1. Create two contingency tables, one with Type and Alcohol_flag and another with Type and Sugar_flag.\n",
    "Use the tables in the previous exercise to calculate:\n",
    "* The prior probability of Type = Red and Type = White.\n",
    "* The probability of high and low alcohol content.\n",
    "* The probability of high and low sugar content.\n",
    "* The conditional probabilities p(Alcohol_flag = High ∣ Type = Red) and p(Alcohol_flag = Low ∣ Type = Red).\n",
    "* The conditional probabilities p(Alcohol_flag = High ∣ Type = White) and p(Alcohol_flag = Low ∣ Type = White).\n",
    "* The conditional probabilities p(Sugar_flag = High ∣ Type = Red) and p(Sugar_flag = Low ∣ Type = Red).\n",
    "* The conditional probabilities p(Sugar_flag = High ∣ Type = White) and p(Sugar_flag = Low ∣ Type = White)."
   ]
  },
  {
   "cell_type": "code",
   "execution_count": null,
   "metadata": {
    "colab": {
     "base_uri": "https://localhost:8080/",
     "height": 261
    },
    "id": "98Bl5hOTrmZP",
    "outputId": "dca4f1f3-b544-4a5e-ace9-dc4ec16d3221"
   },
   "outputs": [
    {
     "name": "stderr",
     "output_type": "stream",
     "text": [
      "/usr/local/lib/python3.7/dist-packages/statsmodels/tools/_testing.py:19: FutureWarning: pandas.util.testing is deprecated. Use the functions in the public API at pandas.testing instead.\n",
      "  import pandas.util.testing as tm\n"
     ]
    },
    {
     "data": {
      "text/html": [
       "\n",
       "  <div id=\"df-9f31e2ee-a90f-45d5-8fe7-f5b4f5c7f58f\">\n",
       "    <div class=\"colab-df-container\">\n",
       "      <div>\n",
       "<style scoped>\n",
       "    .dataframe tbody tr th:only-of-type {\n",
       "        vertical-align: middle;\n",
       "    }\n",
       "\n",
       "    .dataframe tbody tr th {\n",
       "        vertical-align: top;\n",
       "    }\n",
       "\n",
       "    .dataframe thead th {\n",
       "        text-align: right;\n",
       "    }\n",
       "</style>\n",
       "<table border=\"1\" class=\"dataframe\">\n",
       "  <thead>\n",
       "    <tr style=\"text-align: right;\">\n",
       "      <th></th>\n",
       "      <th>Type</th>\n",
       "      <th>Alcohol_flag</th>\n",
       "      <th>Sugar_flag</th>\n",
       "    </tr>\n",
       "  </thead>\n",
       "  <tbody>\n",
       "    <tr>\n",
       "      <th>0</th>\n",
       "      <td>Red</td>\n",
       "      <td>High</td>\n",
       "      <td>High</td>\n",
       "    </tr>\n",
       "    <tr>\n",
       "      <th>1</th>\n",
       "      <td>Red</td>\n",
       "      <td>High</td>\n",
       "      <td>Low</td>\n",
       "    </tr>\n",
       "    <tr>\n",
       "      <th>2</th>\n",
       "      <td>Red</td>\n",
       "      <td>Low</td>\n",
       "      <td>High</td>\n",
       "    </tr>\n",
       "    <tr>\n",
       "      <th>3</th>\n",
       "      <td>Red</td>\n",
       "      <td>High</td>\n",
       "      <td>Low</td>\n",
       "    </tr>\n",
       "    <tr>\n",
       "      <th>4</th>\n",
       "      <td>Red</td>\n",
       "      <td>Low</td>\n",
       "      <td>Low</td>\n",
       "    </tr>\n",
       "  </tbody>\n",
       "</table>\n",
       "</div>\n",
       "      <button class=\"colab-df-convert\" onclick=\"convertToInteractive('df-9f31e2ee-a90f-45d5-8fe7-f5b4f5c7f58f')\"\n",
       "              title=\"Convert this dataframe to an interactive table.\"\n",
       "              style=\"display:none;\">\n",
       "        \n",
       "  <svg xmlns=\"http://www.w3.org/2000/svg\" height=\"24px\"viewBox=\"0 0 24 24\"\n",
       "       width=\"24px\">\n",
       "    <path d=\"M0 0h24v24H0V0z\" fill=\"none\"/>\n",
       "    <path d=\"M18.56 5.44l.94 2.06.94-2.06 2.06-.94-2.06-.94-.94-2.06-.94 2.06-2.06.94zm-11 1L8.5 8.5l.94-2.06 2.06-.94-2.06-.94L8.5 2.5l-.94 2.06-2.06.94zm10 10l.94 2.06.94-2.06 2.06-.94-2.06-.94-.94-2.06-.94 2.06-2.06.94z\"/><path d=\"M17.41 7.96l-1.37-1.37c-.4-.4-.92-.59-1.43-.59-.52 0-1.04.2-1.43.59L10.3 9.45l-7.72 7.72c-.78.78-.78 2.05 0 2.83L4 21.41c.39.39.9.59 1.41.59.51 0 1.02-.2 1.41-.59l7.78-7.78 2.81-2.81c.8-.78.8-2.07 0-2.86zM5.41 20L4 18.59l7.72-7.72 1.47 1.35L5.41 20z\"/>\n",
       "  </svg>\n",
       "      </button>\n",
       "      \n",
       "  <style>\n",
       "    .colab-df-container {\n",
       "      display:flex;\n",
       "      flex-wrap:wrap;\n",
       "      gap: 12px;\n",
       "    }\n",
       "\n",
       "    .colab-df-convert {\n",
       "      background-color: #E8F0FE;\n",
       "      border: none;\n",
       "      border-radius: 50%;\n",
       "      cursor: pointer;\n",
       "      display: none;\n",
       "      fill: #1967D2;\n",
       "      height: 32px;\n",
       "      padding: 0 0 0 0;\n",
       "      width: 32px;\n",
       "    }\n",
       "\n",
       "    .colab-df-convert:hover {\n",
       "      background-color: #E2EBFA;\n",
       "      box-shadow: 0px 1px 2px rgba(60, 64, 67, 0.3), 0px 1px 3px 1px rgba(60, 64, 67, 0.15);\n",
       "      fill: #174EA6;\n",
       "    }\n",
       "\n",
       "    [theme=dark] .colab-df-convert {\n",
       "      background-color: #3B4455;\n",
       "      fill: #D2E3FC;\n",
       "    }\n",
       "\n",
       "    [theme=dark] .colab-df-convert:hover {\n",
       "      background-color: #434B5C;\n",
       "      box-shadow: 0px 1px 3px 1px rgba(0, 0, 0, 0.15);\n",
       "      filter: drop-shadow(0px 1px 2px rgba(0, 0, 0, 0.3));\n",
       "      fill: #FFFFFF;\n",
       "    }\n",
       "  </style>\n",
       "\n",
       "      <script>\n",
       "        const buttonEl =\n",
       "          document.querySelector('#df-9f31e2ee-a90f-45d5-8fe7-f5b4f5c7f58f button.colab-df-convert');\n",
       "        buttonEl.style.display =\n",
       "          google.colab.kernel.accessAllowed ? 'block' : 'none';\n",
       "\n",
       "        async function convertToInteractive(key) {\n",
       "          const element = document.querySelector('#df-9f31e2ee-a90f-45d5-8fe7-f5b4f5c7f58f');\n",
       "          const dataTable =\n",
       "            await google.colab.kernel.invokeFunction('convertToInteractive',\n",
       "                                                     [key], {});\n",
       "          if (!dataTable) return;\n",
       "\n",
       "          const docLinkHtml = 'Like what you see? Visit the ' +\n",
       "            '<a target=\"_blank\" href=https://colab.research.google.com/notebooks/data_table.ipynb>data table notebook</a>'\n",
       "            + ' to learn more about interactive tables.';\n",
       "          element.innerHTML = '';\n",
       "          dataTable['output_type'] = 'display_data';\n",
       "          await google.colab.output.renderOutput(dataTable, element);\n",
       "          const docLink = document.createElement('div');\n",
       "          docLink.innerHTML = docLinkHtml;\n",
       "          element.appendChild(docLink);\n",
       "        }\n",
       "      </script>\n",
       "    </div>\n",
       "  </div>\n",
       "  "
      ],
      "text/plain": [
       "  Type Alcohol_flag Sugar_flag\n",
       "0  Red         High       High\n",
       "1  Red         High        Low\n",
       "2  Red          Low       High\n",
       "3  Red         High        Low\n",
       "4  Red          Low        Low"
      ]
     },
     "execution_count": 1,
     "metadata": {},
     "output_type": "execute_result"
    }
   ],
   "source": [
    "import pandas as pd\n",
    "import numpy as np\n",
    "from sklearn.naive_bayes import MultinomialNB\n",
    "import statsmodels.tools.tools as stattools\n",
    "\n",
    "url1=\"https://raw.githubusercontent.com/ArashVafa/DESC624/master/wine_flag_training.csv\"\n",
    "url2=\"https://raw.githubusercontent.com/ArashVafa/DESC624/master/wine_flag_test.csv\"\n",
    "wine_flag_train= pd.read_csv(url1)\n",
    "wine_flag_test=pd.read_csv(url2)\n",
    "wine_flag_train.head()"
   ]
  },
  {
   "cell_type": "code",
   "execution_count": null,
   "metadata": {
    "colab": {
     "base_uri": "https://localhost:8080/"
    },
    "id": "apZMhW5T19AK",
    "outputId": "90d3f053-71f1-4b31-b291-57895cfb9daf"
   },
   "outputs": [
    {
     "name": "stdout",
     "output_type": "stream",
     "text": [
      "Alcohol_flag  High  Low  Total\n",
      "Type                          \n",
      "Red            218  282    500\n",
      "White          268  232    500\n",
      "Total          486  514   1000\n",
      "--------------------------------\n",
      "Sugar_flag  High  Low  Total\n",
      "Type                        \n",
      "Red          116  384    500\n",
      "White        300  200    500\n",
      "Total        416  584   1000\n"
     ]
    }
   ],
   "source": [
    "t_ta=pd.crosstab(wine_flag_train['Type'],wine_flag_train['Alcohol_flag'])\n",
    "t_ta['Total']=t_ta.sum(axis=1)\n",
    "t_ta.loc['Total']=t_ta.sum()\n",
    "\n",
    "t_ts=pd.crosstab(wine_flag_train['Type'],wine_flag_train['Sugar_flag'])\n",
    "t_ts['Total']=t_ts.sum(axis=1)\n",
    "t_ts.loc['Total']=t_ts.sum()\n",
    "\n",
    "\n",
    "print(t_ta)\n",
    "print('--------------------------------')\n",
    "print(t_ts)"
   ]
  },
  {
   "cell_type": "code",
   "execution_count": null,
   "metadata": {
    "colab": {
     "base_uri": "https://localhost:8080/"
    },
    "id": "NNyxslYi3l9o",
    "outputId": "0b8a0ef5-e086-4078-c48b-5f9b61929e51"
   },
   "outputs": [
    {
     "name": "stdout",
     "output_type": "stream",
     "text": [
      "The prior probability of Type = Red is 0.5 and Type = White is 0.5\n",
      "The probability of high alcohol content is 0.486 and of low alcohol content is 0.514\n",
      "The probability of high sugar content is 0.416 and of low sugar content is 0.584\n",
      "The conditional probabilities p(Alcohol_flag = High ∣ Type = Red) is 0.436 and p(Alcohol_flag = Low ∣ Type = Red) is 0.564\n",
      "The conditional probabilities p(Alcohol_flag = High ∣ Type = White) is 0.536 and p(Alcohol_flag = Low ∣ Type = White) is 0.464\n",
      "The conditional probabilities p(Sugar_flag = High ∣ Type = Red) is 0.232 and p(Sugar_flag = Low ∣ Type = Red) is 0.768\n",
      "The conditional probabilities p(Sugar_flag = High ∣ Type = White) is 0.6 and p(Sugar_flag = Low ∣ Type = White) is 0.4\n"
     ]
    }
   ],
   "source": [
    "print(f\"The prior probability of Type = Red is {500/1000} and Type = White is {500/1000}\")\n",
    "print(f\"The probability of high alcohol content is {486/1000} and of low alcohol content is {514/1000}\")\n",
    "print(f\"The probability of high sugar content is {416/1000} and of low sugar content is {584/1000}\")\n",
    "print(f\"The conditional probabilities p(Alcohol_flag = High ∣ Type = Red) is {218/500} and p(Alcohol_flag = Low ∣ Type = Red) is {282/500}\")\n",
    "print(f\"The conditional probabilities p(Alcohol_flag = High ∣ Type = White) is {268/500} and p(Alcohol_flag = Low ∣ Type = White) is {232/500}\")\n",
    "print(f\"The conditional probabilities p(Sugar_flag = High ∣ Type = Red) is {116/500} and p(Sugar_flag = Low ∣ Type = Red) is {384/500}\")\n",
    "print(f\"The conditional probabilities p(Sugar_flag = High ∣ Type = White) is {300/500} and p(Sugar_flag = Low ∣ Type = White) is {200/500}\")"
   ]
  },
  {
   "cell_type": "markdown",
   "metadata": {
    "id": "aMqUzgJgrmn3"
   },
   "source": [
    "2. Use the probabilities in the previous exercise to discuss\n",
    "* How likely it is that a randomly selected wine is red.\n",
    "* How likely it is that a randomly selected wine has a high alcohol content.\n",
    "* How likely it is that a randomly selected wine has a low sugar content.\n"
   ]
  },
  {
   "cell_type": "markdown",
   "metadata": {
    "id": "zATTOU-V_pE1"
   },
   "source": [
    "*Answer:*\n",
    "- The probability of a randomly selected wine is red is 0.5\n",
    "- The probability of a randomly selected wine has a high alcohol content is 0.486\n",
    "- The probabililty of a randonly selected wine has a low sugar content is 0.584\n",
    "\n"
   ]
  },
  {
   "cell_type": "markdown",
   "metadata": {
    "id": "j-YfnPiHrpcQ"
   },
   "source": [
    "3. Use the conditional probabilities found earlier to discuss\n",
    "* What a typical white wine might have as its alcohol and sugar content.\n",
    "* What a typical red wine might have as its alcohol and sugar content."
   ]
  },
  {
   "cell_type": "markdown",
   "metadata": {
    "id": "R94qu3rkA2ml"
   },
   "source": [
    "*Answer:*\n",
    "- A typical white wine might have high sugar content (60%). However, it's hard to tell the alcohol level since the probability of both high alcohol content and low alcohol content are pretty similar. (54% and 46%)\n",
    "- A typical red wine might have low sugar content (77%). However, like the answer above, it's hard to tell the alcohol level since the probability of both high alcohol content and low alcohol content are pretty similar. (44% and 56%) "
   ]
  },
  {
   "cell_type": "markdown",
   "metadata": {
    "id": "anYNyBwTrxx1"
   },
   "source": [
    "4. Create side‐by‐side bar graphs for Type, one with an overlay of Alcohol_flag and the other with an overlay of Sugar_flag. Compare the graphs to the conditional probabilities you calculated.\n"
   ]
  },
  {
   "cell_type": "code",
   "execution_count": null,
   "metadata": {
    "colab": {
     "base_uri": "https://localhost:8080/",
     "height": 596
    },
    "id": "5fWaALkZr0Gz",
    "outputId": "562f35ee-6cba-4bd9-801f-2ec9d5222018"
   },
   "outputs": [
    {
     "data": {
      "text/plain": [
       "<matplotlib.axes._subplots.AxesSubplot at 0x7f67cd2a1390>"
      ]
     },
     "execution_count": 4,
     "metadata": {},
     "output_type": "execute_result"
    },
    {
     "data": {
      "image/png": "[encoded data removed]",
      "text/plain": [
       "<Figure size 432x288 with 1 Axes>"
      ]
     },
     "metadata": {
      "needs_background": "light"
     },
     "output_type": "display_data"
    },
    {
     "data": {
      "image/png": "[encoded data removed]",
      "text/plain": [
       "<Figure size 432x288 with 1 Axes>"
      ]
     },
     "metadata": {
      "needs_background": "light"
     },
     "output_type": "display_data"
    }
   ],
   "source": [
    "t_ta_plot=pd.crosstab(wine_flag_train['Type'],wine_flag_train['Alcohol_flag'])\n",
    "t_ta_plot.plot(kind='bar', stacked=True, color=['yellow','magenta'])\n",
    "\n",
    "t_ts_plot=pd.crosstab(wine_flag_train['Type'],wine_flag_train['Sugar_flag'])\n",
    "t_ts_plot.plot(kind='bar',stacked=True, color=['cyan','green'])"
   ]
  },
  {
   "cell_type": "markdown",
   "metadata": {
    "id": "0BD848Shr0SY"
   },
   "source": [
    "5. Compute the posterior probability of Type = Red for a wine that is low in alcohol content and high in sugar content. Compute the posterior probability of Type = White for the same wine."
   ]
  },
  {
   "cell_type": "code",
   "execution_count": null,
   "metadata": {
    "colab": {
     "base_uri": "https://localhost:8080/"
    },
    "id": "JlyT4LK1Fp6a",
    "outputId": "d92012a4-a924-404c-b12f-28f3f5430cbb"
   },
   "outputs": [
    {
     "name": "stdout",
     "output_type": "stream",
     "text": [
      "Sugar_flag    High  Low  Total\n",
      "Alcohol_flag                  \n",
      "High           185  301    486\n",
      "Low            231  283    514\n",
      "Total          416  584   1000\n",
      "\n",
      "The posterior probability of Type = Red for a wine that is low in alcohol content and high in sugar content is 0.30597126608799763\n",
      "The posterior probability of Type = White for a wine that is low in alcohol content and high in sugar content is 0.6510026938042502\n"
     ]
    }
   ],
   "source": [
    "t_as=pd.crosstab(wine_flag_train['Alcohol_flag'],wine_flag_train['Sugar_flag'])\n",
    "t_as['Total']=t_as.sum(axis=1)\n",
    "t_as.loc['Total']=t_as.sum()\n",
    "print(t_as)\n",
    "\n",
    "print()\n",
    "\n",
    "\"\"\"p(Red|LowA HighS)= p(LowA HighS|Red)*p(Red)  /  p(LowA HighS)\n",
    "p(White|LowA HighS)=p(LowA HighS|White)*p(White)  /  p(LowA HighS)\"\"\"\n",
    "\n",
    "num1= (282/500)*(116/500)*0.5\n",
    "den1=(514/1000)*(416/1000)\n",
    "print(f\"The posterior probability of Type = Red for a wine that is low in alcohol content and high in sugar content is {num1/den1}\")\n",
    "\n",
    "num2= (232/500)*(300/500)*0.5\n",
    "den2= (514/1000)*(416/1000)\n",
    "print(f\"The posterior probability of Type = White for a wine that is low in alcohol content and high in sugar content is {num2/den2}\")"
   ]
  },
  {
   "cell_type": "markdown",
   "metadata": {
    "id": "mAPOIf_SJE_8"
   },
   "source": [
    "6. Use your answers to the previous exercise to determine which type, red or white, is more probable for a wine with high alcohol and low sugar content. What would the Naïve Bayes classifier classify this wine as?"
   ]
  },
  {
   "cell_type": "markdown",
   "metadata": {
    "id": "F783Hf65IPMe"
   },
   "source": [
    "- Red wine is more probable for a wine with high alcohol and low sugar content."
   ]
  },
  {
   "cell_type": "code",
   "execution_count": null,
   "metadata": {
    "colab": {
     "base_uri": "https://localhost:8080/"
    },
    "id": "43MxqUlBHE6b",
    "outputId": "e1b89863-e83d-4119-9b78-ac0516641875"
   },
   "outputs": [
    {
     "name": "stdout",
     "output_type": "stream",
     "text": [
      "The posterior probability of Type = Red for a wine that is high in alcohol content and low in sugar content is 0.5898866903433114\n",
      "The posterior probability of Type = White for a wine that is high in alcohol content and low in sugar content is 0.37769885562884054\n"
     ]
    }
   ],
   "source": [
    "\"\"\"p(Red|HighA LowS)= p(HighA LowS|Red)*p(Red)  /  p(HighA LowS)\n",
    "p(White|HighA LowS)= p(HighA LowS|White)*p(White)  /  p(HighA LowS)\"\"\"\n",
    "\n",
    "num3= (218/500)*(384/500)*0.5\n",
    "den3= (486/1000)*(584/1000)\n",
    "print(f\"The posterior probability of Type = Red for a wine that is high in alcohol content and low in sugar content is {num3/den3}\")\n",
    "\n",
    "num4= (268/500)*(200/500)*0.5\n",
    "den4= (486/1000)*(584/1000)\n",
    "print(f\"The posterior probability of Type = White for a wine that is high in alcohol content and low in sugar content is {num4/den4}\")"
   ]
  },
  {
   "cell_type": "markdown",
   "metadata": {
    "id": "EvJFQov7JJ6G"
   },
   "source": [
    "7. Run the Naïve Bayes classifier to classify wines as white or red based on alcohol and sugar content."
   ]
  },
  {
   "cell_type": "code",
   "execution_count": null,
   "metadata": {
    "id": "Tx-xWI0gJNec"
   },
   "outputs": [],
   "source": [
    "from sklearn.model_selection import train_test_split  \n",
    "from sklearn.naive_bayes import GaussianNB \n",
    "from sklearn.naive_bayes import MultinomialNB\n",
    "from sklearn.naive_bayes import BernoulliNB \n",
    "\n",
    "#Convert dummy\n",
    "wine_flag_train2= wine_flag_train\n",
    "wine_flag_train2['Type']=wine_flag_train2['Type'].replace({'White':0})\n",
    "wine_flag_train2['Type']=wine_flag_train2['Type'].replace({'Red':1})\n",
    "wine_flag_train2['Alcohol_flag']=wine_flag_train2['Alcohol_flag'].replace({'High':1})\n",
    "wine_flag_train2['Alcohol_flag']=wine_flag_train2['Alcohol_flag'].replace({'Low':0})\n",
    "wine_flag_train2['Sugar_flag']=wine_flag_train2['Sugar_flag'].replace({'High':1})\n",
    "wine_flag_train2['Sugar_flag']=wine_flag_train2['Sugar_flag'].replace({'Low':0})\n",
    "\n",
    "\n",
    "wine_flag_test2= wine_flag_test\n",
    "wine_flag_test2['Type']=wine_flag_test2['Type'].replace({'White':0})\n",
    "wine_flag_test2['Type']=wine_flag_test2['Type'].replace({'Red':1})\n",
    "wine_flag_test2['Alcohol_flag']=wine_flag_test2['Alcohol_flag'].replace({'High':1})\n",
    "wine_flag_test2['Alcohol_flag']=wine_flag_test2['Alcohol_flag'].replace({'Low':0})\n",
    "wine_flag_test2['Sugar_flag']=wine_flag_test2['Sugar_flag'].replace({'High':1})\n",
    "wine_flag_test2['Sugar_flag']=wine_flag_test2['Sugar_flag'].replace({'Low':0})\n"
   ]
  },
  {
   "cell_type": "code",
   "execution_count": null,
   "metadata": {
    "colab": {
     "base_uri": "https://localhost:8080/"
    },
    "id": "oVxB0zlt6X75",
    "outputId": "e9e11ab1-9621-4fa9-8d4c-18bec9bfe417"
   },
   "outputs": [
    {
     "name": "stdout",
     "output_type": "stream",
     "text": [
      "Accuracy NB: 0.66\n"
     ]
    }
   ],
   "source": [
    "X_Alcohol_ind_test=np.array(wine_flag_test2['Alcohol_flag'])\n",
    "(X_Alcohol_ind_test,X_Alcohol_ind_dict_test)=stattools.categorical(X_Alcohol_ind_test,drop=True,dictnames=True)\n",
    "X_Alcohol_ind_test=pd.DataFrame(X_Alcohol_ind_test)\n",
    "\n",
    "X_Sugar_ind_test=np.array(wine_flag_test2['Sugar_flag'])\n",
    "(X_Sugar_ind_test,X_Sugar_ind_dict_test)=stattools.categorical(X_Sugar_ind_test,drop=True,dictnames=True)\n",
    "X_Sugar_ind_test=pd.DataFrame(X_Sugar_ind_test)\n",
    "\n",
    "\n",
    "X_test=pd.concat((X_Alcohol_ind_test, X_Sugar_ind_test), axis=1)\n",
    "\n",
    "\n",
    "Y_test=wine_flag_test2['Type']\n",
    "\n",
    "\n",
    "\n",
    "NB = GaussianNB()\n",
    "nb_01 = NB.fit(X_test, Y_test)   \n",
    "y_predict = nb_01.predict(X_test)\n",
    "print(\"Accuracy NB: {:.2f}\".format(NB.score(X_test, Y_test))) \n",
    "\n",
    "\n"
   ]
  },
  {
   "cell_type": "markdown",
   "metadata": {
    "id": "RVmWLQdVJOE8"
   },
   "source": [
    "8. Evaluate the Naïve Bayes model on the wines_test data set. Display the results in a contingency table. Edit the row and column names of the table to make the table more readable. Include a total row and column."
   ]
  },
  {
   "cell_type": "code",
   "execution_count": null,
   "metadata": {
    "colab": {
     "base_uri": "https://localhost:8080/"
    },
    "id": "GbDne_-XJQox",
    "outputId": "234c2ea2-9e1e-479e-a380-443ca18cef28"
   },
   "outputs": [
    {
     "name": "stdout",
     "output_type": "stream",
     "text": [
      "Predicted     0     1  Total\n",
      "Actual                      \n",
      "0          1082   678   1760\n",
      "1           121   464    585\n",
      "Total      1203  1142   2345\n",
      "-----------------------------\n",
      "Accuracy: 0.6592750533049041\n",
      "Error Rate: 0.34072494669509595\n"
     ]
    }
   ],
   "source": [
    "Ypred=pd.crosstab(wine_flag_test2['Type'],y_predict, rownames=['Actual'],colnames=['Predicted'])\n",
    "Ypred['Total']=Ypred.sum(axis=1)\n",
    "Ypred.loc['Total']=Ypred.sum()\n",
    "print(Ypred)\n",
    "print('-----------------------------')\n",
    "print(f\"Accuracy: {(1082+464)/2345}\")\n",
    "print(f\"Error Rate: {(121+678)/2345}\")"
   ]
  },
  {
   "cell_type": "markdown",
   "metadata": {
    "id": "8IxbUMLGJQ3E"
   },
   "source": [
    "9. According to your table in the previous exercise, find the following values for the Naïve Bayes model:\n",
    "\n",
    "*   Accuracy\n",
    "*   Error rate"
   ]
  },
  {
   "cell_type": "markdown",
   "metadata": {
    "id": "HHKIHaRvZy7F"
   },
   "source": [
    "*Answer:*\n",
    "- Accuracy: 0.66\n",
    "- Error rate: 0.34"
   ]
  },
  {
   "cell_type": "markdown",
   "metadata": {
    "id": "alvhO8oLJkPw"
   },
   "source": [
    "10. According to your contingency table, find the following values for the Naïve Bayes model:\n",
    "* How often it correctly classifies red wines.\n",
    "* How often it correctly classifies white wines."
   ]
  },
  {
   "cell_type": "code",
   "execution_count": null,
   "metadata": {
    "colab": {
     "base_uri": "https://localhost:8080/"
    },
    "id": "7H4H0KeyJq5D",
    "outputId": "25293c88-0cc4-4566-d46c-48723d9c7a61"
   },
   "outputs": [
    {
     "name": "stdout",
     "output_type": "stream",
     "text": [
      "0.4063047285464098\n",
      "0.8994181213632585\n"
     ]
    }
   ],
   "source": [
    "print(464/1142)\n",
    "print(1082/1203)"
   ]
  },
  {
   "cell_type": "markdown",
   "metadata": {
    "id": "skrFRLJyaefh"
   },
   "source": [
    "*Answer:*\n",
    "- How often it correctly classifies red wines: 40.63%\n",
    "- How often it correctly classifies white wines: 89.94%"
   ]
  },
  {
   "cell_type": "markdown",
   "metadata": {
    "id": "RA9cQFvQJrBG"
   },
   "source": [
    "11. Name a few classification algorithm, choose one and use it on a dataset of your choosing."
   ]
  },
  {
   "cell_type": "markdown",
   "metadata": {
    "id": "n3lUzrb6stMr"
   },
   "source": [
    "*Answer:*\n",
    "- Logistic Regression, Naïve Bayes, Decision Tree, Clustering, Random Forest. I used Naïve Bayes algorithm for this exercise."
   ]
  },
  {
   "cell_type": "markdown",
   "metadata": {
    "id": "w6s-dE6fJvhv"
   },
   "source": [
    "12. Apply ANN and decision tree algorithm on the wine dataset and compare the result? which one is better and why?"
   ]
  },
  {
   "cell_type": "code",
   "execution_count": null,
   "metadata": {
    "colab": {
     "base_uri": "https://localhost:8080/"
    },
    "id": "_2TqmkUftejo",
    "outputId": "7e4b8b94-ab67-47b2-d99b-442fc6a89e9f"
   },
   "outputs": [
    {
     "name": "stdout",
     "output_type": "stream",
     "text": [
      "Accuracy ANN: 0.77\n"
     ]
    }
   ],
   "source": [
    "from sklearn.neural_network import MLPClassifier\n",
    "\n",
    "mlp = MLPClassifier(hidden_layer_sizes=(50,), max_iter=1000)\n",
    "mlp.fit(X_test, Y_test.values.ravel())\n",
    "\n",
    "mlp_predict = mlp.predict(X_test)  \n",
    "print(\"Accuracy ANN: {:.2f}\".format(mlp.score(X_test, Y_test)))\n"
   ]
  },
  {
   "cell_type": "code",
   "execution_count": null,
   "metadata": {
    "colab": {
     "base_uri": "https://localhost:8080/"
    },
    "id": "q9Uf_5snyAdk",
    "outputId": "086c6312-f1df-466d-e61e-dcbe878379e7"
   },
   "outputs": [
    {
     "name": "stdout",
     "output_type": "stream",
     "text": [
      "Accuracy Decision Tree: 0.77\n"
     ]
    }
   ],
   "source": [
    "from sklearn.tree import DecisionTreeClassifier\n",
    "from sklearn.metrics import accuracy_score\n",
    "\n",
    "decision_tree = DecisionTreeClassifier()\n",
    "decision_tree = decision_tree.fit(X_test, Y_test)\n",
    "\n",
    "res_pred = decision_tree.predict(X_test)\n",
    "score = decision_tree.score(X_test, Y_test)\n",
    "print(\"Accuracy Decision Tree: {:.2f}\".format(score))"
   ]
  }
 ],
 "metadata": {
  "colab": {
   "collapsed_sections": [],
   "name": "YungHan(Helia)Yang_DESC 624 Final Exam.ipynb",
   "provenance": []
  },
  "kernelspec": {
   "display_name": "Python 3",
   "language": "python",
   "name": "python3"
  },
  "language_info": {
   "codemirror_mode": {
    "name": "ipython",
    "version": 3
   },
   "file_extension": ".py",
   "mimetype": "text/x-python",
   "name": "python",
   "nbconvert_exporter": "python",
   "pygments_lexer": "ipython3",
   "version": "3.8.8"
  }
 },
 "nbformat": 4,
 "nbformat_minor": 1
}
