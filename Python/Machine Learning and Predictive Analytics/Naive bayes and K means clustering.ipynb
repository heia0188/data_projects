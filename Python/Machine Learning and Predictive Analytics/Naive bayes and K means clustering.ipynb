{
 "cells": [
  {
   "cell_type": "markdown",
   "metadata": {
    "id": "ko-SQA50aPuG"
   },
   "source": [
    "\n",
    "**Naive Bayes**"
   ]
  },
  {
   "cell_type": "code",
   "execution_count": 1,
   "metadata": {
    "colab": {
     "base_uri": "https://localhost:8080/",
     "height": 424
    },
    "id": "gnZ0sikbYaNM",
    "outputId": "5ecefcc1-24df-4409-8faf-66171564b660"
   },
   "outputs": [
    {
     "data": {
      "text/html": [
       "<div>\n",
       "<style scoped>\n",
       "    .dataframe tbody tr th:only-of-type {\n",
       "        vertical-align: middle;\n",
       "    }\n",
       "\n",
       "    .dataframe tbody tr th {\n",
       "        vertical-align: top;\n",
       "    }\n",
       "\n",
       "    .dataframe thead th {\n",
       "        text-align: right;\n",
       "    }\n",
       "</style>\n",
       "<table border=\"1\" class=\"dataframe\">\n",
       "  <thead>\n",
       "    <tr style=\"text-align: right;\">\n",
       "      <th></th>\n",
       "      <th>Index</th>\n",
       "      <th>Sex</th>\n",
       "      <th>Age</th>\n",
       "      <th>Educ</th>\n",
       "      <th>Death</th>\n",
       "    </tr>\n",
       "  </thead>\n",
       "  <tbody>\n",
       "    <tr>\n",
       "      <th>0</th>\n",
       "      <td>4</td>\n",
       "      <td>2</td>\n",
       "      <td>52</td>\n",
       "      <td>2</td>\n",
       "      <td>0</td>\n",
       "    </tr>\n",
       "    <tr>\n",
       "      <th>1</th>\n",
       "      <td>6</td>\n",
       "      <td>1</td>\n",
       "      <td>48</td>\n",
       "      <td>1</td>\n",
       "      <td>0</td>\n",
       "    </tr>\n",
       "    <tr>\n",
       "      <th>2</th>\n",
       "      <td>10</td>\n",
       "      <td>2</td>\n",
       "      <td>46</td>\n",
       "      <td>3</td>\n",
       "      <td>0</td>\n",
       "    </tr>\n",
       "    <tr>\n",
       "      <th>3</th>\n",
       "      <td>14</td>\n",
       "      <td>2</td>\n",
       "      <td>49</td>\n",
       "      <td>2</td>\n",
       "      <td>0</td>\n",
       "    </tr>\n",
       "    <tr>\n",
       "      <th>4</th>\n",
       "      <td>16</td>\n",
       "      <td>2</td>\n",
       "      <td>63</td>\n",
       "      <td>1</td>\n",
       "      <td>0</td>\n",
       "    </tr>\n",
       "    <tr>\n",
       "      <th>...</th>\n",
       "      <td>...</td>\n",
       "      <td>...</td>\n",
       "      <td>...</td>\n",
       "      <td>...</td>\n",
       "      <td>...</td>\n",
       "    </tr>\n",
       "    <tr>\n",
       "      <th>2252</th>\n",
       "      <td>11307</td>\n",
       "      <td>2</td>\n",
       "      <td>56</td>\n",
       "      <td>1</td>\n",
       "      <td>0</td>\n",
       "    </tr>\n",
       "    <tr>\n",
       "      <th>2253</th>\n",
       "      <td>11313</td>\n",
       "      <td>1</td>\n",
       "      <td>68</td>\n",
       "      <td>1</td>\n",
       "      <td>1</td>\n",
       "    </tr>\n",
       "    <tr>\n",
       "      <th>2254</th>\n",
       "      <td>11323</td>\n",
       "      <td>2</td>\n",
       "      <td>50</td>\n",
       "      <td>1</td>\n",
       "      <td>1</td>\n",
       "    </tr>\n",
       "    <tr>\n",
       "      <th>2255</th>\n",
       "      <td>11326</td>\n",
       "      <td>2</td>\n",
       "      <td>58</td>\n",
       "      <td>2</td>\n",
       "      <td>0</td>\n",
       "    </tr>\n",
       "    <tr>\n",
       "      <th>2256</th>\n",
       "      <td>11328</td>\n",
       "      <td>1</td>\n",
       "      <td>46</td>\n",
       "      <td>3</td>\n",
       "      <td>0</td>\n",
       "    </tr>\n",
       "  </tbody>\n",
       "</table>\n",
       "<p>2257 rows × 5 columns</p>\n",
       "</div>"
      ],
      "text/plain": [
       "      Index  Sex  Age  Educ  Death\n",
       "0         4    2   52     2      0\n",
       "1         6    1   48     1      0\n",
       "2        10    2   46     3      0\n",
       "3        14    2   49     2      0\n",
       "4        16    2   63     1      0\n",
       "...     ...  ...  ...   ...    ...\n",
       "2252  11307    2   56     1      0\n",
       "2253  11313    1   68     1      1\n",
       "2254  11323    2   50     1      1\n",
       "2255  11326    2   58     2      0\n",
       "2256  11328    1   46     3      0\n",
       "\n",
       "[2257 rows x 5 columns]"
      ]
     },
     "execution_count": 1,
     "metadata": {},
     "output_type": "execute_result"
    }
   ],
   "source": [
    "import pandas as pd\n",
    "\n",
    "\n",
    "URL_Framingham_training='https://raw.githubusercontent.com/kamranbakhtiari/DESC624/main/Framingham_Training'\n",
    "URL_Framingham_test='https://raw.githubusercontent.com/kamranbakhtiari/DESC624/main/Framingham_Test'\n",
    "\n",
    "Framingham_test = pd.read_csv('https://raw.githubusercontent.com/kamranbakhtiari/DESC624/main/Framingham_Test')\n",
    "Framingham_training = pd.read_csv('https://raw.githubusercontent.com/kamranbakhtiari/DESC624/main/Framingham_Training')\n",
    "\n",
    "\n",
    "Framingham_test"
   ]
  },
  {
   "cell_type": "markdown",
   "metadata": {
    "id": "qrcFY6gmYhDu"
   },
   "source": [
    "1. Convert Death, Sex, and education to factors"
   ]
  },
  {
   "cell_type": "code",
   "execution_count": null,
   "metadata": {
    "colab": {
     "base_uri": "https://localhost:8080/"
    },
    "id": "xqXY_9kcYdEP",
    "outputId": "dc281d99-4f48-4160-cc9b-a008bcfe485f"
   },
   "outputs": [
    {
     "name": "stdout",
     "output_type": "stream",
     "text": [
      "       0    1    2    3    4    5    6   ...   43   44   45   46   47   48   49\n",
      "0     0.0  0.0  0.0  0.0  0.0  0.0  0.0  ...  0.0  0.0  0.0  0.0  0.0  0.0  0.0\n",
      "1     0.0  0.0  0.0  0.0  0.0  0.0  0.0  ...  0.0  0.0  0.0  0.0  0.0  0.0  0.0\n",
      "2     0.0  0.0  0.0  0.0  0.0  0.0  0.0  ...  0.0  0.0  0.0  0.0  0.0  0.0  0.0\n",
      "3     0.0  0.0  0.0  0.0  0.0  0.0  0.0  ...  0.0  0.0  0.0  0.0  0.0  0.0  0.0\n",
      "4     0.0  0.0  0.0  0.0  0.0  0.0  0.0  ...  0.0  0.0  0.0  0.0  0.0  0.0  0.0\n",
      "...   ...  ...  ...  ...  ...  ...  ...  ...  ...  ...  ...  ...  ...  ...  ...\n",
      "7948  0.0  0.0  0.0  0.0  0.0  0.0  0.0  ...  0.0  0.0  0.0  0.0  0.0  0.0  0.0\n",
      "7949  0.0  0.0  0.0  0.0  0.0  0.0  0.0  ...  0.0  0.0  0.0  0.0  0.0  0.0  0.0\n",
      "7950  0.0  0.0  0.0  0.0  0.0  0.0  0.0  ...  0.0  0.0  0.0  0.0  0.0  0.0  0.0\n",
      "7951  0.0  0.0  0.0  0.0  0.0  0.0  0.0  ...  0.0  0.0  0.0  0.0  0.0  0.0  0.0\n",
      "7952  0.0  0.0  0.0  0.0  0.0  0.0  0.0  ...  0.0  0.0  0.0  0.0  0.0  0.0  0.0\n",
      "\n",
      "[7953 rows x 50 columns]\n",
      "        0    1\n",
      "0     1.0  0.0\n",
      "1     1.0  0.0\n",
      "2     0.0  1.0\n",
      "3     0.0  1.0\n",
      "4     1.0  0.0\n",
      "...   ...  ...\n",
      "7948  1.0  0.0\n",
      "7949  1.0  0.0\n",
      "7950  0.0  1.0\n",
      "7951  0.0  1.0\n",
      "7952  0.0  1.0\n",
      "\n",
      "[7953 rows x 2 columns]\n",
      "        0    1    2    3\n",
      "0     0.0  0.0  0.0  1.0\n",
      "1     0.0  0.0  0.0  1.0\n",
      "2     0.0  1.0  0.0  0.0\n",
      "3     0.0  1.0  0.0  0.0\n",
      "4     1.0  0.0  0.0  0.0\n",
      "...   ...  ...  ...  ...\n",
      "7948  0.0  0.0  1.0  0.0\n",
      "7949  0.0  0.0  1.0  0.0\n",
      "7950  0.0  0.0  1.0  0.0\n",
      "7951  0.0  0.0  1.0  0.0\n",
      "7952  0.0  0.0  1.0  0.0\n",
      "\n",
      "[7953 rows x 4 columns]\n"
     ]
    },
    {
     "name": "stderr",
     "output_type": "stream",
     "text": [
      "/usr/local/lib/python3.7/dist-packages/statsmodels/tools/_testing.py:19: FutureWarning: pandas.util.testing is deprecated. Use the functions in the public API at pandas.testing instead.\n",
      "  import pandas.util.testing as tm\n"
     ]
    }
   ],
   "source": [
    "import numpy as np\n",
    "from sklearn.naive_bayes import MultinomialNB \n",
    "import statsmodels.tools.tools as stattools\n",
    "\n",
    "\n",
    "X_Death_ind=np.array(Framingham_training['Death'])\n",
    "X_Death_ind\n",
    "X_Age_ind=np.array(Framingham_training['Age'])\n",
    "X_Age_ind\n",
    "X_Sex_ind=np.array(Framingham_training['Sex'])\n",
    "X_Sex_ind\n",
    "X_Educ_ind=np.array(Framingham_training['Educ'])\n",
    "X_Educ_ind\n",
    "\n",
    "(X_Age_ind, X_Age_ind_dict)=stattools.categorical(X_Age_ind, drop=True, dictnames=True)\n",
    "X_Age_ind=pd.DataFrame(X_Age_ind)\n",
    "X_Age_ind_dict\n",
    "print(X_Age_ind)\n",
    "\n",
    "(X_Sex_ind, X_Sex_ind_dict)=stattools.categorical(X_Sex_ind, drop=True, dictnames=True)\n",
    "X_Sex_ind=pd.DataFrame(X_Sex_ind)\n",
    "X_Sex_ind_dict\n",
    "print(X_Sex_ind)\n",
    "\n",
    "(X_Educ_ind, X_Educ_ind_dict)=stattools.categorical(X_Educ_ind, drop=True, dictnames=True)\n",
    "X_Educ_ind=pd.DataFrame(X_Educ_ind)\n",
    "X_Educ_ind_dict\n",
    "print(X_Educ_ind)\n",
    "\n",
    "X=pd.concat((X_Age_ind, X_Sex_ind), axis=1)\n",
    "X2=pd.concat((Framingham_training['Age'], Framingham_training['Sex'],Framingham_training['Educ'], X_Age_ind, X_Sex_ind,X_Educ_ind), axis=1)\n",
    "X.head(100)\n",
    "X2.head(100)\n",
    "\n",
    "Y=Framingham_training['Death']"
   ]
  },
  {
   "cell_type": "markdown",
   "metadata": {
    "id": "4skTX5FHZBCA"
   },
   "source": [
    "2. Create 2 contingency tables, one with death and sex and another with death and educ"
   ]
  },
  {
   "cell_type": "code",
   "execution_count": null,
   "metadata": {
    "colab": {
     "base_uri": "https://localhost:8080/"
    },
    "id": "cfOeRTPRZIHE",
    "outputId": "75f28334-033f-4e7b-bc2c-b4b69b40b359"
   },
   "outputs": [
    {
     "name": "stdout",
     "output_type": "stream",
     "text": [
      "Sex       1     2  Total\n",
      "Death                   \n",
      "0      2113  3422   5535\n",
      "1      1324  1094   2418\n",
      "Total  3437  4516   7953\n",
      "Educ      1     2     3    4  Total\n",
      "Death                              \n",
      "0      2060  1825   960  690   5535\n",
      "1      1244   603   346  225   2418\n",
      "Total  3304  2428  1306  915   7953\n"
     ]
    }
   ],
   "source": [
    "import pandas as pd\n",
    "import numpy as np\n",
    "from sklearn.naive_bayes import MultinomialNB\n",
    "import statsmodels.tools.tools as stattools\n",
    "\n",
    "t_ds=pd.crosstab(Framingham_training['Death'],Framingham_training['Sex'])\n",
    "t_ds['Total']=t_ds.sum(axis=1)\n",
    "t_ds.loc['Total']=t_ds.sum()\n",
    "print(t_ds)\n",
    "\n",
    "t_de=pd.crosstab(Framingham_training['Death'],Framingham_training['Educ'])\n",
    "t_de['Total']=t_de.sum(axis=1)\n",
    "t_de.loc['Total']=t_de.sum()\n",
    "print(t_de)"
   ]
  },
  {
   "cell_type": "markdown",
   "metadata": {
    "id": "m_MZIX3aZL0e"
   },
   "source": [
    "3. Use the tables in previous exercise to calculate\n",
    "\n",
    "The probability a randomly selected person is alive or dead\n",
    "The probability a randomly selected person is male\n",
    "The probability a randomly selected person has an Educ value of 3\n",
    "The probabilities that a dead person is male with education level 1, and that a living peerson is male with education level 1\n",
    "the probabilities that a living person is female withe education level 2, and that a dead person is female with education level 2"
   ]
  },
  {
   "cell_type": "code",
   "execution_count": null,
   "metadata": {
    "colab": {
     "base_uri": "https://localhost:8080/"
    },
    "id": "BftA_ugUZPEr",
    "outputId": "d550ca25-6138-4281-d686-0ee808d13b56"
   },
   "outputs": [
    {
     "name": "stdout",
     "output_type": "stream",
     "text": [
      "0.6963410033949453\n",
      "0.6959637872500943\n",
      "0.5678360367157048\n",
      "0.08210738086256758\n",
      "0.13755815415566452\n",
      "0.1163844915545868\n",
      "0.11504876987944827\n",
      "0.06505119361806752\n",
      "0.06827515716493543\n"
     ]
    }
   ],
   "source": [
    "print(5538/(5535+2418))\n",
    "print(11070/(11070+4836))\n",
    "\n",
    "print((3422+1094)/(3422+1094+2113+1324))\n",
    "\n",
    "print((960+346)/(11070+4836))\n",
    "\n",
    "print(1094/(5535+2418))\n",
    "\n",
    "print((1094/2418)*(1244/4836))\n",
    "print((3422/5535)*(2060/11070))\n",
    "\n",
    "print((2113/5355)*(1825/11070))\n",
    "print((1324/2418)*(603/4836))"
   ]
  },
  {
   "cell_type": "markdown",
   "metadata": {
    "id": "xqbZhhwPZbgb"
   },
   "source": [
    "4. Create side-by-side bar graphs for death, one with an overlay of Sex and the other with an overlay of Educ"
   ]
  },
  {
   "cell_type": "code",
   "execution_count": null,
   "metadata": {
    "colab": {
     "base_uri": "https://localhost:8080/",
     "height": 554
    },
    "id": "Sab0u_cDZcLi",
    "outputId": "bf5623e1-50d5-4085-bf06-1da289b37c07"
   },
   "outputs": [
    {
     "data": {
      "text/plain": [
       "<matplotlib.axes._subplots.AxesSubplot at 0x7febdac90550>"
      ]
     },
     "execution_count": 5,
     "metadata": {},
     "output_type": "execute_result"
    },
    {
     "data": {
      "image/png": "[encoded data removed]",
      "text/plain": [
       "<Figure size 432x288 with 1 Axes>"
      ]
     },
     "metadata": {
      "needs_background": "light"
     },
     "output_type": "display_data"
    },
    {
     "data": {
      "image/png": "[encoded data removed]",
      "text/plain": [
       "<Figure size 432x288 with 1 Axes>"
      ]
     },
     "metadata": {
      "needs_background": "light"
     },
     "output_type": "display_data"
    }
   ],
   "source": [
    "t_ds_plot=pd.crosstab(Framingham_training['Death'], Framingham_training['Sex'])\n",
    "t_ds_plot.plot(kind='bar', stacked=True)\n",
    "\n",
    "t_de_plot=pd.crosstab(Framingham_training['Death'], Framingham_training['Educ'])\n",
    "t_de_plot.plot(kind='bar', stacked=True)"
   ]
  },
  {
   "cell_type": "markdown",
   "metadata": {
    "id": "C8v3sO7ZZfDk"
   },
   "source": [
    "5. Compute the posterior probability of Death=0 (person is living) for a female with education level 2. Compute the posterior probability of death =1 (person is dead) for a male with education level 1.\n",
    "\n"
   ]
  },
  {
   "cell_type": "code",
   "execution_count": null,
   "metadata": {
    "colab": {
     "base_uri": "https://localhost:8080/"
    },
    "id": "3IwjjsgMZg3E",
    "outputId": "f5381334-6da9-4bb7-8830-539376707227"
   },
   "outputs": [
    {
     "name": "stdout",
     "output_type": "stream",
     "text": [
      "Educ     1     2    3    4  Total\n",
      "Sex                              \n",
      "1     1507   963  436  531   3437\n",
      "2     1797  1465  870  384   4516\n",
      "0.6640030976271231\n",
      "0.3630256811952236\n"
     ]
    }
   ],
   "source": [
    "\"\"\"p(alive|female2)=p(female2|alive)*p(alive)  /  p(female2)\n",
    "p(dead|male1)=p(male1|dead)*p(dead)  /  p(male1)\"\"\"\n",
    "\n",
    "t_se=pd.crosstab(Framingham_training['Sex'],Framingham_training['Educ'])\n",
    "t_se['Total']=t_se.sum(axis=1)\n",
    "print(t_se)\n",
    "\n",
    "num1=(2113/5535)*0.696*(1825/5535)\n",
    "den1=(3437/7953)*(2428/7953)\n",
    "print(num1/den1)\n",
    "\n",
    "num2=(1324/2418)*(1-0.696)*(1244/2418)\n",
    "den2=(4516/7953)*(3304/7953)\n",
    "print(num2/den2)"
   ]
  },
  {
   "cell_type": "markdown",
   "metadata": {
    "id": "BjAKFSfjZjlv"
   },
   "source": [
    "6. Run the Naive Bayes model on the data set. Display the results in a contingency table. Edit the rows and column names of the table to make the table more readable. Include a total row and column."
   ]
  },
  {
   "cell_type": "code",
   "execution_count": null,
   "metadata": {
    "colab": {
     "base_uri": "https://localhost:8080/"
    },
    "id": "QyM7WunwZlWd",
    "outputId": "7e63208b-a3d3-4d7d-ebb9-54c954326363"
   },
   "outputs": [
    {
     "name": "stdout",
     "output_type": "stream",
     "text": [
      "Predicted     0    1  Total\n",
      "Actual                     \n",
      "0          1464  133   1597\n",
      "1           439  221    660\n",
      "Total      1903  354   2257\n",
      "0.7465662383695171\n"
     ]
    }
   ],
   "source": [
    "X_Age_ind_test=np.array(Framingham_test['Age'])\n",
    "(X_Age_ind_test,X_Age_ind_dict_test)=stattools.categorical(X_Age_ind_test,drop=True,dictnames=True)\n",
    "X_Age_ind_test=pd.DataFrame(X_Age_ind_test)\n",
    "\n",
    "X_Sex_ind_test=np.array(Framingham_test['Sex'])\n",
    "(X_Sex_ind_test,X_Sex_ind_dict_test)=stattools.categorical(X_Sex_ind_test,drop=True,dictnames=True)\n",
    "X_Sex_ind_test=pd.DataFrame(X_Sex_ind_test)\n",
    "\n",
    "X_Educ_ind_test=np.array(Framingham_test['Educ'])\n",
    "(X_Educ_ind_test,X_Educ_ind_dict_test)=stattools.categorical(X_Educ_ind_test,drop=True,dictnames=True)\n",
    "X_Educ_ind_test=pd.DataFrame(X_Educ_ind_test)\n",
    "\n",
    "X_test=pd.concat((X_Age_ind_test, X_Sex_ind_test, X_Educ_ind_test), axis=1)\n",
    "X_test\n",
    "\n",
    "Y_test=Framingham_test['Death']\n",
    "Y_test\n",
    "\n",
    "X=pd.concat((X_Age_ind, X_Sex_ind, X_Educ_ind), axis=1)\n",
    "Y=Framingham_training['Death']\n",
    "\n",
    "nb_01=MultinomialNB().fit(X_test,Y_test)\n",
    "nb_01\n",
    "\n",
    "\n",
    "Y_predicted= nb_01.predict(X_test)\n",
    "\n",
    "Ypred=pd.crosstab(Framingham_test['Death'],Y_predicted,rownames=['Actual'],colnames=['Predicted'])\n",
    "\n",
    "Ypred['Total']=Ypred.sum(axis=1);Ypred.loc['Total']=Ypred.sum();Ypred\n",
    "\n",
    "print(Ypred)\n",
    "\n",
    "print((1464+221)/2257)"
   ]
  },
  {
   "cell_type": "markdown",
   "metadata": {
    "id": "GPL4bv_r3kAB"
   },
   "source": [
    "## **My comments:**\n",
    "\n",
    "  The purpose of this workbook is to predict the relationship between death, gender, age, and education level.  However, due to the lack of data information, I have to interpret the data based on my knowledge.  The algorithm used for the prediction is Naïve Bayes.  Naïve Bayes classifier calculates the posterior probability of an event and uses this prior knowledge to make a prediction for the next event.\n",
    "\n",
    "  To begin with, the author took a look at the data set and did some data cleanings to prepare for later work.  Next, two contingency tables were made for death|sex and death|education.  Based on the contingency tables, the author then calculated the probability.  For example, the probability a randomly selected person is male is 0.5678 (P(male)=male/all), and the probability a randomly selected person has an Educ value of 3 is 0.082 (P(Educ3)=Educ3/all).  After the calculation, the author graphed two stacked bar charts.  Stacked bar charts are good visualizations designed to help the audience simultaneously compare totals.  Lastly, the author fit the multinomial Naïve Bayes classifier into the dataset.  The prediction accuracy rate is 74.66%.\n",
    "\n"
   ]
  },
  {
   "cell_type": "markdown",
   "metadata": {
    "id": "2Q-HHX2jZpQH"
   },
   "source": [
    "**K means clustering**"
   ]
  },
  {
   "cell_type": "code",
   "execution_count": null,
   "metadata": {
    "colab": {
     "base_uri": "https://localhost:8080/",
     "height": 505
    },
    "id": "9YiQn04fZrSW",
    "outputId": "57c4fde4-2a18-49e2-c076-9717e108eff4"
   },
   "outputs": [
    {
     "data": {
      "text/html": [
       "\n",
       "  <div id=\"df-67f4d190-3e6f-43cf-9c7a-6159b2a4bf64\">\n",
       "    <div class=\"colab-df-container\">\n",
       "      <div>\n",
       "<style scoped>\n",
       "    .dataframe tbody tr th:only-of-type {\n",
       "        vertical-align: middle;\n",
       "    }\n",
       "\n",
       "    .dataframe tbody tr th {\n",
       "        vertical-align: top;\n",
       "    }\n",
       "\n",
       "    .dataframe thead th {\n",
       "        text-align: right;\n",
       "    }\n",
       "</style>\n",
       "<table border=\"1\" class=\"dataframe\">\n",
       "  <thead>\n",
       "    <tr style=\"text-align: right;\">\n",
       "      <th></th>\n",
       "      <th>Name</th>\n",
       "      <th>Manuf</th>\n",
       "      <th>Type</th>\n",
       "      <th>Calories</th>\n",
       "      <th>Protein</th>\n",
       "      <th>Fat</th>\n",
       "      <th>Sodium</th>\n",
       "      <th>Fiber</th>\n",
       "      <th>Carbo</th>\n",
       "      <th>Sugars</th>\n",
       "      <th>Potass</th>\n",
       "      <th>Vitamins</th>\n",
       "      <th>Shelf</th>\n",
       "      <th>Weight</th>\n",
       "      <th>Cups</th>\n",
       "      <th>Rating</th>\n",
       "      <th>Cold</th>\n",
       "      <th>Nabisco</th>\n",
       "      <th>Quaker</th>\n",
       "      <th>Kelloggs</th>\n",
       "      <th>GeneralMills</th>\n",
       "      <th>Ralston</th>\n",
       "      <th>AHFP</th>\n",
       "    </tr>\n",
       "  </thead>\n",
       "  <tbody>\n",
       "    <tr>\n",
       "      <th>0</th>\n",
       "      <td>100%_Bran</td>\n",
       "      <td>N</td>\n",
       "      <td>C</td>\n",
       "      <td>70</td>\n",
       "      <td>4</td>\n",
       "      <td>1</td>\n",
       "      <td>130</td>\n",
       "      <td>10.0</td>\n",
       "      <td>5.0</td>\n",
       "      <td>6.0</td>\n",
       "      <td>280.0</td>\n",
       "      <td>25</td>\n",
       "      <td>3</td>\n",
       "      <td>1.0</td>\n",
       "      <td>0.33</td>\n",
       "      <td>68.402973</td>\n",
       "      <td>1</td>\n",
       "      <td>1</td>\n",
       "      <td>0</td>\n",
       "      <td>0</td>\n",
       "      <td>0</td>\n",
       "      <td>0</td>\n",
       "      <td>0</td>\n",
       "    </tr>\n",
       "    <tr>\n",
       "      <th>1</th>\n",
       "      <td>100%_Natural_Bran</td>\n",
       "      <td>Q</td>\n",
       "      <td>C</td>\n",
       "      <td>120</td>\n",
       "      <td>3</td>\n",
       "      <td>5</td>\n",
       "      <td>15</td>\n",
       "      <td>2.0</td>\n",
       "      <td>8.0</td>\n",
       "      <td>8.0</td>\n",
       "      <td>135.0</td>\n",
       "      <td>0</td>\n",
       "      <td>3</td>\n",
       "      <td>1.0</td>\n",
       "      <td>1.00</td>\n",
       "      <td>33.983679</td>\n",
       "      <td>1</td>\n",
       "      <td>0</td>\n",
       "      <td>1</td>\n",
       "      <td>0</td>\n",
       "      <td>0</td>\n",
       "      <td>0</td>\n",
       "      <td>0</td>\n",
       "    </tr>\n",
       "    <tr>\n",
       "      <th>2</th>\n",
       "      <td>All-Bran</td>\n",
       "      <td>K</td>\n",
       "      <td>C</td>\n",
       "      <td>70</td>\n",
       "      <td>4</td>\n",
       "      <td>1</td>\n",
       "      <td>260</td>\n",
       "      <td>9.0</td>\n",
       "      <td>7.0</td>\n",
       "      <td>5.0</td>\n",
       "      <td>320.0</td>\n",
       "      <td>25</td>\n",
       "      <td>3</td>\n",
       "      <td>1.0</td>\n",
       "      <td>0.33</td>\n",
       "      <td>59.425505</td>\n",
       "      <td>1</td>\n",
       "      <td>0</td>\n",
       "      <td>0</td>\n",
       "      <td>1</td>\n",
       "      <td>0</td>\n",
       "      <td>0</td>\n",
       "      <td>0</td>\n",
       "    </tr>\n",
       "    <tr>\n",
       "      <th>3</th>\n",
       "      <td>All-Bran_with_Extra_Fiber</td>\n",
       "      <td>K</td>\n",
       "      <td>C</td>\n",
       "      <td>50</td>\n",
       "      <td>4</td>\n",
       "      <td>0</td>\n",
       "      <td>140</td>\n",
       "      <td>14.0</td>\n",
       "      <td>8.0</td>\n",
       "      <td>0.0</td>\n",
       "      <td>330.0</td>\n",
       "      <td>25</td>\n",
       "      <td>3</td>\n",
       "      <td>1.0</td>\n",
       "      <td>0.50</td>\n",
       "      <td>93.704912</td>\n",
       "      <td>1</td>\n",
       "      <td>0</td>\n",
       "      <td>0</td>\n",
       "      <td>1</td>\n",
       "      <td>0</td>\n",
       "      <td>0</td>\n",
       "      <td>0</td>\n",
       "    </tr>\n",
       "    <tr>\n",
       "      <th>4</th>\n",
       "      <td>Almond_Delight</td>\n",
       "      <td>R</td>\n",
       "      <td>C</td>\n",
       "      <td>110</td>\n",
       "      <td>2</td>\n",
       "      <td>2</td>\n",
       "      <td>200</td>\n",
       "      <td>1.0</td>\n",
       "      <td>14.0</td>\n",
       "      <td>8.0</td>\n",
       "      <td>NaN</td>\n",
       "      <td>25</td>\n",
       "      <td>3</td>\n",
       "      <td>1.0</td>\n",
       "      <td>0.75</td>\n",
       "      <td>34.384843</td>\n",
       "      <td>1</td>\n",
       "      <td>0</td>\n",
       "      <td>0</td>\n",
       "      <td>0</td>\n",
       "      <td>0</td>\n",
       "      <td>1</td>\n",
       "      <td>0</td>\n",
       "    </tr>\n",
       "    <tr>\n",
       "      <th>...</th>\n",
       "      <td>...</td>\n",
       "      <td>...</td>\n",
       "      <td>...</td>\n",
       "      <td>...</td>\n",
       "      <td>...</td>\n",
       "      <td>...</td>\n",
       "      <td>...</td>\n",
       "      <td>...</td>\n",
       "      <td>...</td>\n",
       "      <td>...</td>\n",
       "      <td>...</td>\n",
       "      <td>...</td>\n",
       "      <td>...</td>\n",
       "      <td>...</td>\n",
       "      <td>...</td>\n",
       "      <td>...</td>\n",
       "      <td>...</td>\n",
       "      <td>...</td>\n",
       "      <td>...</td>\n",
       "      <td>...</td>\n",
       "      <td>...</td>\n",
       "      <td>...</td>\n",
       "      <td>...</td>\n",
       "    </tr>\n",
       "    <tr>\n",
       "      <th>72</th>\n",
       "      <td>Triples</td>\n",
       "      <td>G</td>\n",
       "      <td>C</td>\n",
       "      <td>110</td>\n",
       "      <td>2</td>\n",
       "      <td>1</td>\n",
       "      <td>250</td>\n",
       "      <td>0.0</td>\n",
       "      <td>21.0</td>\n",
       "      <td>3.0</td>\n",
       "      <td>60.0</td>\n",
       "      <td>25</td>\n",
       "      <td>3</td>\n",
       "      <td>1.0</td>\n",
       "      <td>0.75</td>\n",
       "      <td>39.106174</td>\n",
       "      <td>1</td>\n",
       "      <td>0</td>\n",
       "      <td>0</td>\n",
       "      <td>0</td>\n",
       "      <td>1</td>\n",
       "      <td>0</td>\n",
       "      <td>0</td>\n",
       "    </tr>\n",
       "    <tr>\n",
       "      <th>73</th>\n",
       "      <td>Trix</td>\n",
       "      <td>G</td>\n",
       "      <td>C</td>\n",
       "      <td>110</td>\n",
       "      <td>1</td>\n",
       "      <td>1</td>\n",
       "      <td>140</td>\n",
       "      <td>0.0</td>\n",
       "      <td>13.0</td>\n",
       "      <td>12.0</td>\n",
       "      <td>25.0</td>\n",
       "      <td>25</td>\n",
       "      <td>2</td>\n",
       "      <td>1.0</td>\n",
       "      <td>1.00</td>\n",
       "      <td>27.753301</td>\n",
       "      <td>1</td>\n",
       "      <td>0</td>\n",
       "      <td>0</td>\n",
       "      <td>0</td>\n",
       "      <td>1</td>\n",
       "      <td>0</td>\n",
       "      <td>0</td>\n",
       "    </tr>\n",
       "    <tr>\n",
       "      <th>74</th>\n",
       "      <td>Wheat_Chex</td>\n",
       "      <td>R</td>\n",
       "      <td>C</td>\n",
       "      <td>100</td>\n",
       "      <td>3</td>\n",
       "      <td>1</td>\n",
       "      <td>230</td>\n",
       "      <td>3.0</td>\n",
       "      <td>17.0</td>\n",
       "      <td>3.0</td>\n",
       "      <td>115.0</td>\n",
       "      <td>25</td>\n",
       "      <td>1</td>\n",
       "      <td>1.0</td>\n",
       "      <td>0.67</td>\n",
       "      <td>49.787445</td>\n",
       "      <td>1</td>\n",
       "      <td>0</td>\n",
       "      <td>0</td>\n",
       "      <td>0</td>\n",
       "      <td>0</td>\n",
       "      <td>1</td>\n",
       "      <td>0</td>\n",
       "    </tr>\n",
       "    <tr>\n",
       "      <th>75</th>\n",
       "      <td>Wheaties</td>\n",
       "      <td>G</td>\n",
       "      <td>C</td>\n",
       "      <td>100</td>\n",
       "      <td>3</td>\n",
       "      <td>1</td>\n",
       "      <td>200</td>\n",
       "      <td>3.0</td>\n",
       "      <td>17.0</td>\n",
       "      <td>3.0</td>\n",
       "      <td>110.0</td>\n",
       "      <td>25</td>\n",
       "      <td>1</td>\n",
       "      <td>1.0</td>\n",
       "      <td>1.00</td>\n",
       "      <td>51.592193</td>\n",
       "      <td>1</td>\n",
       "      <td>0</td>\n",
       "      <td>0</td>\n",
       "      <td>0</td>\n",
       "      <td>1</td>\n",
       "      <td>0</td>\n",
       "      <td>0</td>\n",
       "    </tr>\n",
       "    <tr>\n",
       "      <th>76</th>\n",
       "      <td>Wheaties_Honey_Gold</td>\n",
       "      <td>G</td>\n",
       "      <td>C</td>\n",
       "      <td>110</td>\n",
       "      <td>2</td>\n",
       "      <td>1</td>\n",
       "      <td>200</td>\n",
       "      <td>1.0</td>\n",
       "      <td>16.0</td>\n",
       "      <td>8.0</td>\n",
       "      <td>60.0</td>\n",
       "      <td>25</td>\n",
       "      <td>1</td>\n",
       "      <td>1.0</td>\n",
       "      <td>0.75</td>\n",
       "      <td>36.187559</td>\n",
       "      <td>1</td>\n",
       "      <td>0</td>\n",
       "      <td>0</td>\n",
       "      <td>0</td>\n",
       "      <td>1</td>\n",
       "      <td>0</td>\n",
       "      <td>0</td>\n",
       "    </tr>\n",
       "  </tbody>\n",
       "</table>\n",
       "<p>77 rows × 23 columns</p>\n",
       "</div>\n",
       "      <button class=\"colab-df-convert\" onclick=\"convertToInteractive('df-67f4d190-3e6f-43cf-9c7a-6159b2a4bf64')\"\n",
       "              title=\"Convert this dataframe to an interactive table.\"\n",
       "              style=\"display:none;\">\n",
       "        \n",
       "  <svg xmlns=\"http://www.w3.org/2000/svg\" height=\"24px\"viewBox=\"0 0 24 24\"\n",
       "       width=\"24px\">\n",
       "    <path d=\"M0 0h24v24H0V0z\" fill=\"none\"/>\n",
       "    <path d=\"M18.56 5.44l.94 2.06.94-2.06 2.06-.94-2.06-.94-.94-2.06-.94 2.06-2.06.94zm-11 1L8.5 8.5l.94-2.06 2.06-.94-2.06-.94L8.5 2.5l-.94 2.06-2.06.94zm10 10l.94 2.06.94-2.06 2.06-.94-2.06-.94-.94-2.06-.94 2.06-2.06.94z\"/><path d=\"M17.41 7.96l-1.37-1.37c-.4-.4-.92-.59-1.43-.59-.52 0-1.04.2-1.43.59L10.3 9.45l-7.72 7.72c-.78.78-.78 2.05 0 2.83L4 21.41c.39.39.9.59 1.41.59.51 0 1.02-.2 1.41-.59l7.78-7.78 2.81-2.81c.8-.78.8-2.07 0-2.86zM5.41 20L4 18.59l7.72-7.72 1.47 1.35L5.41 20z\"/>\n",
       "  </svg>\n",
       "      </button>\n",
       "      \n",
       "  <style>\n",
       "    .colab-df-container {\n",
       "      display:flex;\n",
       "      flex-wrap:wrap;\n",
       "      gap: 12px;\n",
       "    }\n",
       "\n",
       "    .colab-df-convert {\n",
       "      background-color: #E8F0FE;\n",
       "      border: none;\n",
       "      border-radius: 50%;\n",
       "      cursor: pointer;\n",
       "      display: none;\n",
       "      fill: #1967D2;\n",
       "      height: 32px;\n",
       "      padding: 0 0 0 0;\n",
       "      width: 32px;\n",
       "    }\n",
       "\n",
       "    .colab-df-convert:hover {\n",
       "      background-color: #E2EBFA;\n",
       "      box-shadow: 0px 1px 2px rgba(60, 64, 67, 0.3), 0px 1px 3px 1px rgba(60, 64, 67, 0.15);\n",
       "      fill: #174EA6;\n",
       "    }\n",
       "\n",
       "    [theme=dark] .colab-df-convert {\n",
       "      background-color: #3B4455;\n",
       "      fill: #D2E3FC;\n",
       "    }\n",
       "\n",
       "    [theme=dark] .colab-df-convert:hover {\n",
       "      background-color: #434B5C;\n",
       "      box-shadow: 0px 1px 3px 1px rgba(0, 0, 0, 0.15);\n",
       "      filter: drop-shadow(0px 1px 2px rgba(0, 0, 0, 0.3));\n",
       "      fill: #FFFFFF;\n",
       "    }\n",
       "  </style>\n",
       "\n",
       "      <script>\n",
       "        const buttonEl =\n",
       "          document.querySelector('#df-67f4d190-3e6f-43cf-9c7a-6159b2a4bf64 button.colab-df-convert');\n",
       "        buttonEl.style.display =\n",
       "          google.colab.kernel.accessAllowed ? 'block' : 'none';\n",
       "\n",
       "        async function convertToInteractive(key) {\n",
       "          const element = document.querySelector('#df-67f4d190-3e6f-43cf-9c7a-6159b2a4bf64');\n",
       "          const dataTable =\n",
       "            await google.colab.kernel.invokeFunction('convertToInteractive',\n",
       "                                                     [key], {});\n",
       "          if (!dataTable) return;\n",
       "\n",
       "          const docLinkHtml = 'Like what you see? Visit the ' +\n",
       "            '<a target=\"_blank\" href=https://colab.research.google.com/notebooks/data_table.ipynb>data table notebook</a>'\n",
       "            + ' to learn more about interactive tables.';\n",
       "          element.innerHTML = '';\n",
       "          dataTable['output_type'] = 'display_data';\n",
       "          await google.colab.output.renderOutput(dataTable, element);\n",
       "          const docLink = document.createElement('div');\n",
       "          docLink.innerHTML = docLinkHtml;\n",
       "          element.appendChild(docLink);\n",
       "        }\n",
       "      </script>\n",
       "    </div>\n",
       "  </div>\n",
       "  "
      ],
      "text/plain": [
       "                          Name Manuf Type  ...  GeneralMills  Ralston  AHFP\n",
       "0                   100%_Bran     N    C   ...             0        0     0\n",
       "1           100%_Natural_Bran     Q    C   ...             0        0     0\n",
       "2                    All-Bran     K    C   ...             0        0     0\n",
       "3   All-Bran_with_Extra_Fiber     K    C   ...             0        0     0\n",
       "4              Almond_Delight     R    C   ...             0        1     0\n",
       "..                         ...   ...  ...  ...           ...      ...   ...\n",
       "72                    Triples     G    C   ...             1        0     0\n",
       "73                       Trix     G    C   ...             1        0     0\n",
       "74                 Wheat_Chex     R    C   ...             0        1     0\n",
       "75                   Wheaties     G    C   ...             1        0     0\n",
       "76        Wheaties_Honey_Gold     G    C   ...             1        0     0\n",
       "\n",
       "[77 rows x 23 columns]"
      ]
     },
     "execution_count": 8,
     "metadata": {},
     "output_type": "execute_result"
    }
   ],
   "source": [
    "import pandas as pd\n",
    "from scipy import stats\n",
    "from sklearn.cluster import KMeans\n",
    "\n",
    "\n",
    "\n",
    "url_cereals='https://raw.githubusercontent.com/kamranbakhtiari/DESC624/main/cereals.CSV'\n",
    "cereals=pd.read_csv(url_cereals)\n",
    "\n",
    "cereals"
   ]
  },
  {
   "cell_type": "markdown",
   "metadata": {
    "id": "TPs6EGoNZvWL"
   },
   "source": [
    "\n",
    "7. Subset the Fat and Sodium variables into their own data frame, X. Standardize the data set"
   ]
  },
  {
   "cell_type": "code",
   "execution_count": null,
   "metadata": {
    "colab": {
     "base_uri": "https://localhost:8080/"
    },
    "id": "RK-zg38UZw3h",
    "outputId": "77582d38-98b5-40fa-9cbe-08bb0c816735"
   },
   "outputs": [
    {
     "name": "stdout",
     "output_type": "stream",
     "text": [
      "    Fat  Sodium\n",
      "0     1     130\n",
      "1     5      15\n",
      "2     1     260\n",
      "3     0     140\n",
      "4     2     200\n",
      "..  ...     ...\n",
      "72    1     250\n",
      "73    1     140\n",
      "74    1     230\n",
      "75    1     200\n",
      "76    1     200\n",
      "\n",
      "[77 rows x 2 columns]\n",
      "         Fat    Sodium\n",
      "0  -0.012988 -0.356306\n",
      "1   3.987349 -1.737087\n",
      "2  -0.012988  1.204578\n",
      "3  -1.013072 -0.236238\n",
      "4   0.987096  0.484170\n",
      "..       ...       ...\n",
      "72 -0.012988  1.084510\n",
      "73 -0.012988 -0.236238\n",
      "74 -0.012988  0.844374\n",
      "75 -0.012988  0.484170\n",
      "76 -0.012988  0.484170\n",
      "\n",
      "[77 rows x 2 columns]\n"
     ]
    }
   ],
   "source": [
    "X=cereals[['Fat','Sodium']]\n",
    "print(X)\n",
    "\n",
    "Xz=pd.DataFrame(stats.zscore(X), columns=['Fat', 'Sodium'])\n",
    "print(Xz)"
   ]
  },
  {
   "cell_type": "markdown",
   "metadata": {
    "id": "no1lWxXIZybl"
   },
   "source": [
    " Run k-means clustering on the data set, usng three clusters"
   ]
  },
  {
   "cell_type": "code",
   "execution_count": null,
   "metadata": {
    "colab": {
     "base_uri": "https://localhost:8080/"
    },
    "id": "ekbvtCx1Z0Oo",
    "outputId": "3991c05d-9904-4e84-affd-28a83ce9da02"
   },
   "outputs": [
    {
     "name": "stdout",
     "output_type": "stream",
     "text": [
      "KMeans(n_clusters=3)\n",
      "[0 1 0 0 1 1 0 1 0 0 1 1 1 1 0 0 0 2 0 1 2 0 0 0 0 0 2 1 0 0 2 0 0 0 1 1 0\n",
      " 0 0 0 0 1 0 2 1 1 1 0 0 1 0 1 0 0 2 2 0 2 0 1 2 0 0 2 2 2 2 0 2 0 0 0 0 0\n",
      " 0 0 0]\n"
     ]
    }
   ],
   "source": [
    "kmeans=KMeans(n_clusters=3).fit(Xz)\n",
    "print(kmeans)\n",
    "\n",
    "cluster=kmeans.labels_\n",
    "print(cluster)\n",
    "\n",
    "Cluster1=Xz.loc[cluster == 0]\n",
    "Cluster2=Xz.loc[cluster == 1]\n",
    "Cluster3=Xz.loc[cluster == 2]"
   ]
  },
  {
   "cell_type": "markdown",
   "metadata": {
    "id": "4csbp1trZ2yS"
   },
   "source": [
    "9. Obtain the summary of each variable witin each cluster and use the summaries to identify:\n",
    "\n",
    "A low fat, low sodium cluster\n",
    "A low fat, high sodium cluster\n",
    "A high fat, high sodium cluster"
   ]
  },
  {
   "cell_type": "code",
   "execution_count": null,
   "metadata": {
    "colab": {
     "base_uri": "https://localhost:8080/"
    },
    "id": "ogjEUxkUZ4o-",
    "outputId": "93548972-e537-4735-c513-e21eabccb3e7"
   },
   "outputs": [
    {
     "name": "stdout",
     "output_type": "stream",
     "text": [
      "             Fat     Sodium\n",
      "count  44.000000  44.000000\n",
      "mean   -0.376655   0.500543\n",
      "std     0.486648   0.596188\n",
      "min    -1.013072  -0.416340\n",
      "25%    -1.013072   0.123966\n",
      "50%    -0.012988   0.484170\n",
      "75%    -0.012988   0.874391\n",
      "max    -0.012988   1.924986\n",
      "             Fat     Sodium\n",
      "count  19.000000  19.000000\n",
      "mean    1.408184   0.063932\n",
      "std     0.768598   0.739608\n",
      "min     0.987096  -1.737087\n",
      "25%     0.987096  -0.236238\n",
      "50%     0.987096   0.003898\n",
      "75%     1.987181   0.604238\n",
      "max     3.987349   1.564782\n",
      "             Fat     Sodium\n",
      "count  14.000000  14.000000\n",
      "mean   -0.727334  -1.659901\n",
      "std     0.611301   0.410850\n",
      "min    -1.013072  -1.917189\n",
      "25%    -1.013072  -1.917189\n",
      "50%    -1.013072  -1.917189\n",
      "75%    -1.013072  -1.466934\n",
      "max     0.987096  -0.836578\n"
     ]
    }
   ],
   "source": [
    "print(Cluster1.describe())\n",
    "print(Cluster2.describe())\n",
    "print(Cluster3.describe())"
   ]
  },
  {
   "cell_type": "markdown",
   "metadata": {
    "id": "ZPqEHakL3okK"
   },
   "source": [
    "## **My comments:**\n",
    "\n",
    "The purpose of this workbook is to find out the clusters of the cereals data set.  The algorithm used for the prediction is K Means clustering.  Clustering is a useful technique when the data are unlabeled, and it would help users to classify the data by its similarity.  Although there are many variables, the author only used ‘Fat’ and ‘Sodium’ as the factors for clustering.\n",
    "\n",
    "First, the author calculated the z-score of these two variables to standardize the data set.  When making K Means prediction, the author assigned “3” as the desired grouping numbers for the outcome.  However, it is hard to distinguish the profile of these three clusters because it only shows the numbers that represent the clusters.  An easy way to get a better understanding of the clusters is to use ‘describe’ to find out the grouping criteria.  For example, the cluster 1 describe shows the data are relatively high fat and high sodium, the cluster 2 describe shows the data are relatively low fat and high sodium, and the cluster 3 describe shows the data are relatively low fat and low sodium.  In addition, we can also see that there are 44, 19, and 14 counts, respectively, in these clusters.\n"
   ]
  }
 ],
 "metadata": {
  "colab": {
   "collapsed_sections": [],
   "name": "YungHan(Helia)Yang_Homework_2_MDE.ipynb",
   "provenance": []
  },
  "kernelspec": {
   "display_name": "Python 3",
   "language": "python",
   "name": "python3"
  },
  "language_info": {
   "codemirror_mode": {
    "name": "ipython",
    "version": 3
   },
   "file_extension": ".py",
   "mimetype": "text/x-python",
   "name": "python",
   "nbconvert_exporter": "python",
   "pygments_lexer": "ipython3",
   "version": "3.8.8"
  }
 },
 "nbformat": 4,
 "nbformat_minor": 1
}
